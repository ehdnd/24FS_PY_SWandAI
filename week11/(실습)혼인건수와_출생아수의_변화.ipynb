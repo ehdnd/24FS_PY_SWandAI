{
 "cells": [
  {
   "cell_type": "markdown",
   "metadata": {
    "id": "cTAbB64S10WO"
   },
   "source": [
    "#2010년도~2021년 혼인건수와 출생아수의 변화 살펴하기\n",
    "**시간이 지날수록 출생아수의 변화가 있는가?**\n",
    "\n",
    "#####1) 혼인건수가 가장 적은 년도와 가장 많은 년도는 언제인가?\n",
    "#####2) 출생아수가 가장 적은 년도와 가장 많은 년도는 언제인가?\n",
    "#####3) 출생아수가 혼인건수에 영향이 있는가?\n"
   ]
  },
  {
   "cell_type": "markdown",
   "metadata": {
    "id": "voJtYQHb4hsQ"
   },
   "source": [
    "###1.2010년도~2021년도 혼인건수와 출생아수 데이터 읽어오기\n",
    "\n",
    "#####- URL(통계청):https://kosis.kr/statHtml/statHtml.do?orgId=101&tblId=DT_1B8000G\n",
    "#####- 조회설정 ######행정구역별:전국 ######종류별:출생아수(명), 혼인건수(건) ######시점: 2000년도~2021년도 ######그외:행렬전환\n"
   ]
  },
  {
   "cell_type": "code",
   "execution_count": 49,
   "metadata": {
    "id": "01R_DdrR7HER"
   },
   "outputs": [],
   "source": [
    "# pandas 라이브러리 가져오기\n",
    "\n",
    "import pandas as pd"
   ]
  },
  {
   "cell_type": "code",
   "execution_count": 50,
   "metadata": {
    "id": "LalzR05z5Bu5"
   },
   "outputs": [
    {
     "data": {
      "text/html": [
       "<div>\n",
       "<style scoped>\n",
       "    .dataframe tbody tr th:only-of-type {\n",
       "        vertical-align: middle;\n",
       "    }\n",
       "\n",
       "    .dataframe tbody tr th {\n",
       "        vertical-align: top;\n",
       "    }\n",
       "\n",
       "    .dataframe thead th {\n",
       "        text-align: right;\n",
       "    }\n",
       "</style>\n",
       "<table border=\"1\" class=\"dataframe\">\n",
       "  <thead>\n",
       "    <tr style=\"text-align: right;\">\n",
       "      <th></th>\n",
       "      <th>시점</th>\n",
       "      <th>출생아수(명)</th>\n",
       "      <th>혼인건수(건)</th>\n",
       "    </tr>\n",
       "  </thead>\n",
       "  <tbody>\n",
       "    <tr>\n",
       "      <th>0</th>\n",
       "      <td>2000</td>\n",
       "      <td>640089</td>\n",
       "      <td>332090</td>\n",
       "    </tr>\n",
       "    <tr>\n",
       "      <th>1</th>\n",
       "      <td>2001</td>\n",
       "      <td>559934</td>\n",
       "      <td>318407</td>\n",
       "    </tr>\n",
       "    <tr>\n",
       "      <th>2</th>\n",
       "      <td>2002</td>\n",
       "      <td>496911</td>\n",
       "      <td>304877</td>\n",
       "    </tr>\n",
       "    <tr>\n",
       "      <th>3</th>\n",
       "      <td>2003</td>\n",
       "      <td>495036</td>\n",
       "      <td>302503</td>\n",
       "    </tr>\n",
       "    <tr>\n",
       "      <th>4</th>\n",
       "      <td>2004</td>\n",
       "      <td>476958</td>\n",
       "      <td>308598</td>\n",
       "    </tr>\n",
       "  </tbody>\n",
       "</table>\n",
       "</div>"
      ],
      "text/plain": [
       "     시점  출생아수(명)  혼인건수(건)\n",
       "0  2000   640089   332090\n",
       "1  2001   559934   318407\n",
       "2  2002   496911   304877\n",
       "3  2003   495036   302503\n",
       "4  2004   476958   308598"
      ]
     },
     "execution_count": 50,
     "metadata": {},
     "output_type": "execute_result"
    }
   ],
   "source": [
    "# 2000년_2021년 출생아수와 혼인건수.csv 화일 읽고 상위 5개 데이터 확인하기\n",
    "# 변수명 = pd.read_csv(‘파일경로명’, encoding=‘인코딩방식’header=행번호)\n",
    "# 인코딩방식 :EUC_KR(한글이 포함된 일반적인 경우)/cp949(MS office에서 저장한 파일 형식)\n",
    "# header=행번호 : 열이름으로 사용할 행번호 설정\n",
    "\n",
    "data = pd.read_csv(\"2000년_2021년 출생아수와 혼인건수.csv\", encoding=\"EUC_KR\", header=1)\n",
    "data.head()"
   ]
  },
  {
   "cell_type": "markdown",
   "metadata": {
    "id": "bvrRt1eS4qvy"
   },
   "source": [
    "###2.2010년도~2021년도 혼인건수와 출생아수 데이터 확인하기\n"
   ]
  },
  {
   "cell_type": "code",
   "execution_count": 51,
   "metadata": {
    "id": "Ic8Z5oBs56B7"
   },
   "outputs": [
    {
     "name": "stdout",
     "output_type": "stream",
     "text": [
      "<class 'pandas.core.frame.DataFrame'>\n",
      "RangeIndex: 22 entries, 0 to 21\n",
      "Data columns (total 3 columns):\n",
      " #   Column   Non-Null Count  Dtype\n",
      "---  ------   --------------  -----\n",
      " 0   시점       22 non-null     int64\n",
      " 1   출생아수(명)  22 non-null     int64\n",
      " 2   혼인건수(건)  22 non-null     int64\n",
      "dtypes: int64(3)\n",
      "memory usage: 660.0 bytes\n"
     ]
    }
   ],
   "source": [
    "# 데이터 정보 확인(행열개수, 데이터 타입, 열의 개수 등)하기\n",
    "data.info()"
   ]
  },
  {
   "cell_type": "code",
   "execution_count": 52,
   "metadata": {
    "id": "eWbOH9SD8CDr"
   },
   "outputs": [
    {
     "data": {
      "text/html": [
       "<div>\n",
       "<style scoped>\n",
       "    .dataframe tbody tr th:only-of-type {\n",
       "        vertical-align: middle;\n",
       "    }\n",
       "\n",
       "    .dataframe tbody tr th {\n",
       "        vertical-align: top;\n",
       "    }\n",
       "\n",
       "    .dataframe thead th {\n",
       "        text-align: right;\n",
       "    }\n",
       "</style>\n",
       "<table border=\"1\" class=\"dataframe\">\n",
       "  <thead>\n",
       "    <tr style=\"text-align: right;\">\n",
       "      <th></th>\n",
       "      <th>시점</th>\n",
       "      <th>출생아수(명)</th>\n",
       "      <th>혼인건수(건)</th>\n",
       "    </tr>\n",
       "  </thead>\n",
       "  <tbody>\n",
       "    <tr>\n",
       "      <th>count</th>\n",
       "      <td>22.000000</td>\n",
       "      <td>22.000000</td>\n",
       "      <td>22.000000</td>\n",
       "    </tr>\n",
       "    <tr>\n",
       "      <th>mean</th>\n",
       "      <td>2010.500000</td>\n",
       "      <td>437712.000000</td>\n",
       "      <td>297942.363636</td>\n",
       "    </tr>\n",
       "    <tr>\n",
       "      <th>std</th>\n",
       "      <td>6.493587</td>\n",
       "      <td>89917.017497</td>\n",
       "      <td>40377.388552</td>\n",
       "    </tr>\n",
       "    <tr>\n",
       "      <th>min</th>\n",
       "      <td>2000.000000</td>\n",
       "      <td>260562.000000</td>\n",
       "      <td>192507.000000</td>\n",
       "    </tr>\n",
       "    <tr>\n",
       "      <th>25%</th>\n",
       "      <td>2005.250000</td>\n",
       "      <td>413541.000000</td>\n",
       "      <td>286852.000000</td>\n",
       "    </tr>\n",
       "    <tr>\n",
       "      <th>50%</th>\n",
       "      <td>2010.500000</td>\n",
       "      <td>448304.000000</td>\n",
       "      <td>309178.500000</td>\n",
       "    </tr>\n",
       "    <tr>\n",
       "      <th>75%</th>\n",
       "      <td>2015.750000</td>\n",
       "      <td>482652.000000</td>\n",
       "      <td>326830.750000</td>\n",
       "    </tr>\n",
       "    <tr>\n",
       "      <th>max</th>\n",
       "      <td>2021.000000</td>\n",
       "      <td>640089.000000</td>\n",
       "      <td>343559.000000</td>\n",
       "    </tr>\n",
       "  </tbody>\n",
       "</table>\n",
       "</div>"
      ],
      "text/plain": [
       "                시점        출생아수(명)        혼인건수(건)\n",
       "count    22.000000      22.000000      22.000000\n",
       "mean   2010.500000  437712.000000  297942.363636\n",
       "std       6.493587   89917.017497   40377.388552\n",
       "min    2000.000000  260562.000000  192507.000000\n",
       "25%    2005.250000  413541.000000  286852.000000\n",
       "50%    2010.500000  448304.000000  309178.500000\n",
       "75%    2015.750000  482652.000000  326830.750000\n",
       "max    2021.000000  640089.000000  343559.000000"
      ]
     },
     "execution_count": 52,
     "metadata": {},
     "output_type": "execute_result"
    }
   ],
   "source": [
    "# 수치형 데이터에 대한 통계자료(평균, 최대, 최소등..) 확인하기\n",
    "data.describe(include=\"all\")"
   ]
  },
  {
   "cell_type": "code",
   "execution_count": 53,
   "metadata": {
    "id": "4nw-YN7o8LEv"
   },
   "outputs": [
    {
     "data": {
      "text/html": [
       "<div>\n",
       "<style scoped>\n",
       "    .dataframe tbody tr th:only-of-type {\n",
       "        vertical-align: middle;\n",
       "    }\n",
       "\n",
       "    .dataframe tbody tr th {\n",
       "        vertical-align: top;\n",
       "    }\n",
       "\n",
       "    .dataframe thead th {\n",
       "        text-align: right;\n",
       "    }\n",
       "</style>\n",
       "<table border=\"1\" class=\"dataframe\">\n",
       "  <thead>\n",
       "    <tr style=\"text-align: right;\">\n",
       "      <th></th>\n",
       "      <th>시점</th>\n",
       "      <th>출생아수(명)</th>\n",
       "      <th>혼인건수(건)</th>\n",
       "    </tr>\n",
       "  </thead>\n",
       "  <tbody>\n",
       "    <tr>\n",
       "      <th>12</th>\n",
       "      <td>2012</td>\n",
       "      <td>484550</td>\n",
       "      <td>327073</td>\n",
       "    </tr>\n",
       "    <tr>\n",
       "      <th>13</th>\n",
       "      <td>2013</td>\n",
       "      <td>436455</td>\n",
       "      <td>322807</td>\n",
       "    </tr>\n",
       "    <tr>\n",
       "      <th>14</th>\n",
       "      <td>2014</td>\n",
       "      <td>435435</td>\n",
       "      <td>305507</td>\n",
       "    </tr>\n",
       "    <tr>\n",
       "      <th>15</th>\n",
       "      <td>2015</td>\n",
       "      <td>438420</td>\n",
       "      <td>302828</td>\n",
       "    </tr>\n",
       "    <tr>\n",
       "      <th>16</th>\n",
       "      <td>2016</td>\n",
       "      <td>406243</td>\n",
       "      <td>281635</td>\n",
       "    </tr>\n",
       "    <tr>\n",
       "      <th>17</th>\n",
       "      <td>2017</td>\n",
       "      <td>357771</td>\n",
       "      <td>264455</td>\n",
       "    </tr>\n",
       "    <tr>\n",
       "      <th>18</th>\n",
       "      <td>2018</td>\n",
       "      <td>326822</td>\n",
       "      <td>257622</td>\n",
       "    </tr>\n",
       "    <tr>\n",
       "      <th>19</th>\n",
       "      <td>2019</td>\n",
       "      <td>302676</td>\n",
       "      <td>239159</td>\n",
       "    </tr>\n",
       "    <tr>\n",
       "      <th>20</th>\n",
       "      <td>2020</td>\n",
       "      <td>272337</td>\n",
       "      <td>213502</td>\n",
       "    </tr>\n",
       "    <tr>\n",
       "      <th>21</th>\n",
       "      <td>2021</td>\n",
       "      <td>260562</td>\n",
       "      <td>192507</td>\n",
       "    </tr>\n",
       "  </tbody>\n",
       "</table>\n",
       "</div>"
      ],
      "text/plain": [
       "      시점  출생아수(명)  혼인건수(건)\n",
       "12  2012   484550   327073\n",
       "13  2013   436455   322807\n",
       "14  2014   435435   305507\n",
       "15  2015   438420   302828\n",
       "16  2016   406243   281635\n",
       "17  2017   357771   264455\n",
       "18  2018   326822   257622\n",
       "19  2019   302676   239159\n",
       "20  2020   272337   213502\n",
       "21  2021   260562   192507"
      ]
     },
     "execution_count": 53,
     "metadata": {},
     "output_type": "execute_result"
    }
   ],
   "source": [
    "# 하위 10개 데이터 확인하기\n",
    "data.tail(10)"
   ]
  },
  {
   "cell_type": "markdown",
   "metadata": {
    "id": "GIQKLzVx5Cd1"
   },
   "source": [
    "###3.혼인건수와 출생아수 데이터 재정리하기\n"
   ]
  },
  {
   "cell_type": "code",
   "execution_count": 54,
   "metadata": {
    "id": "aS3JX38O9A49"
   },
   "outputs": [],
   "source": [
    "# 열이름 변경하기\n",
    "# 변수명.rename(columns = {‘열이름’:‘새로운 열이름’}, inplace= True)\n",
    "# 출생아수(명)->출생아수\n",
    "# 혼인건수(건)->혼인건수\n",
    "data.rename(\n",
    "    columns={\"출생아수(명)\": \"출생아수\", \"혼인건수(건)\": \"혼인건수\"}, inplace=True\n",
    ")"
   ]
  },
  {
   "cell_type": "code",
   "execution_count": 55,
   "metadata": {
    "id": "L1Ce68LQ9sC7"
   },
   "outputs": [
    {
     "data": {
      "text/html": [
       "<div>\n",
       "<style scoped>\n",
       "    .dataframe tbody tr th:only-of-type {\n",
       "        vertical-align: middle;\n",
       "    }\n",
       "\n",
       "    .dataframe tbody tr th {\n",
       "        vertical-align: top;\n",
       "    }\n",
       "\n",
       "    .dataframe thead th {\n",
       "        text-align: right;\n",
       "    }\n",
       "</style>\n",
       "<table border=\"1\" class=\"dataframe\">\n",
       "  <thead>\n",
       "    <tr style=\"text-align: right;\">\n",
       "      <th></th>\n",
       "      <th>시점</th>\n",
       "      <th>출생아수</th>\n",
       "      <th>혼인건수</th>\n",
       "    </tr>\n",
       "  </thead>\n",
       "  <tbody>\n",
       "    <tr>\n",
       "      <th>10</th>\n",
       "      <td>2010</td>\n",
       "      <td>470171</td>\n",
       "      <td>326104</td>\n",
       "    </tr>\n",
       "    <tr>\n",
       "      <th>11</th>\n",
       "      <td>2011</td>\n",
       "      <td>471265</td>\n",
       "      <td>329087</td>\n",
       "    </tr>\n",
       "    <tr>\n",
       "      <th>12</th>\n",
       "      <td>2012</td>\n",
       "      <td>484550</td>\n",
       "      <td>327073</td>\n",
       "    </tr>\n",
       "    <tr>\n",
       "      <th>13</th>\n",
       "      <td>2013</td>\n",
       "      <td>436455</td>\n",
       "      <td>322807</td>\n",
       "    </tr>\n",
       "    <tr>\n",
       "      <th>14</th>\n",
       "      <td>2014</td>\n",
       "      <td>435435</td>\n",
       "      <td>305507</td>\n",
       "    </tr>\n",
       "    <tr>\n",
       "      <th>15</th>\n",
       "      <td>2015</td>\n",
       "      <td>438420</td>\n",
       "      <td>302828</td>\n",
       "    </tr>\n",
       "    <tr>\n",
       "      <th>16</th>\n",
       "      <td>2016</td>\n",
       "      <td>406243</td>\n",
       "      <td>281635</td>\n",
       "    </tr>\n",
       "    <tr>\n",
       "      <th>17</th>\n",
       "      <td>2017</td>\n",
       "      <td>357771</td>\n",
       "      <td>264455</td>\n",
       "    </tr>\n",
       "    <tr>\n",
       "      <th>18</th>\n",
       "      <td>2018</td>\n",
       "      <td>326822</td>\n",
       "      <td>257622</td>\n",
       "    </tr>\n",
       "    <tr>\n",
       "      <th>19</th>\n",
       "      <td>2019</td>\n",
       "      <td>302676</td>\n",
       "      <td>239159</td>\n",
       "    </tr>\n",
       "    <tr>\n",
       "      <th>20</th>\n",
       "      <td>2020</td>\n",
       "      <td>272337</td>\n",
       "      <td>213502</td>\n",
       "    </tr>\n",
       "    <tr>\n",
       "      <th>21</th>\n",
       "      <td>2021</td>\n",
       "      <td>260562</td>\n",
       "      <td>192507</td>\n",
       "    </tr>\n",
       "  </tbody>\n",
       "</table>\n",
       "</div>"
      ],
      "text/plain": [
       "      시점    출생아수    혼인건수\n",
       "10  2010  470171  326104\n",
       "11  2011  471265  329087\n",
       "12  2012  484550  327073\n",
       "13  2013  436455  322807\n",
       "14  2014  435435  305507\n",
       "15  2015  438420  302828\n",
       "16  2016  406243  281635\n",
       "17  2017  357771  264455\n",
       "18  2018  326822  257622\n",
       "19  2019  302676  239159\n",
       "20  2020  272337  213502\n",
       "21  2021  260562  192507"
      ]
     },
     "execution_count": 55,
     "metadata": {},
     "output_type": "execute_result"
    }
   ],
   "source": [
    "# 2010년도~2021년도 데이터 행 찾기\n",
    "data.query(\"2010 <= 시점 <= 2021\")"
   ]
  },
  {
   "cell_type": "code",
   "execution_count": 56,
   "metadata": {
    "id": "senie29S-5je"
   },
   "outputs": [],
   "source": [
    "# 2010년도~2021년도 데이터 행 저장하기\n",
    "\n",
    "numData = data.query(\"2010 <= 시점 <= 2021\")"
   ]
  },
  {
   "cell_type": "code",
   "execution_count": 57,
   "metadata": {
    "id": "sZjHR35b_A46"
   },
   "outputs": [
    {
     "data": {
      "text/html": [
       "<div>\n",
       "<style scoped>\n",
       "    .dataframe tbody tr th:only-of-type {\n",
       "        vertical-align: middle;\n",
       "    }\n",
       "\n",
       "    .dataframe tbody tr th {\n",
       "        vertical-align: top;\n",
       "    }\n",
       "\n",
       "    .dataframe thead th {\n",
       "        text-align: right;\n",
       "    }\n",
       "</style>\n",
       "<table border=\"1\" class=\"dataframe\">\n",
       "  <thead>\n",
       "    <tr style=\"text-align: right;\">\n",
       "      <th></th>\n",
       "      <th>시점</th>\n",
       "      <th>출생아수</th>\n",
       "      <th>혼인건수</th>\n",
       "    </tr>\n",
       "  </thead>\n",
       "  <tbody>\n",
       "    <tr>\n",
       "      <th>0</th>\n",
       "      <td>2010</td>\n",
       "      <td>470171</td>\n",
       "      <td>326104</td>\n",
       "    </tr>\n",
       "    <tr>\n",
       "      <th>1</th>\n",
       "      <td>2011</td>\n",
       "      <td>471265</td>\n",
       "      <td>329087</td>\n",
       "    </tr>\n",
       "    <tr>\n",
       "      <th>2</th>\n",
       "      <td>2012</td>\n",
       "      <td>484550</td>\n",
       "      <td>327073</td>\n",
       "    </tr>\n",
       "    <tr>\n",
       "      <th>3</th>\n",
       "      <td>2013</td>\n",
       "      <td>436455</td>\n",
       "      <td>322807</td>\n",
       "    </tr>\n",
       "    <tr>\n",
       "      <th>4</th>\n",
       "      <td>2014</td>\n",
       "      <td>435435</td>\n",
       "      <td>305507</td>\n",
       "    </tr>\n",
       "    <tr>\n",
       "      <th>5</th>\n",
       "      <td>2015</td>\n",
       "      <td>438420</td>\n",
       "      <td>302828</td>\n",
       "    </tr>\n",
       "    <tr>\n",
       "      <th>6</th>\n",
       "      <td>2016</td>\n",
       "      <td>406243</td>\n",
       "      <td>281635</td>\n",
       "    </tr>\n",
       "    <tr>\n",
       "      <th>7</th>\n",
       "      <td>2017</td>\n",
       "      <td>357771</td>\n",
       "      <td>264455</td>\n",
       "    </tr>\n",
       "    <tr>\n",
       "      <th>8</th>\n",
       "      <td>2018</td>\n",
       "      <td>326822</td>\n",
       "      <td>257622</td>\n",
       "    </tr>\n",
       "    <tr>\n",
       "      <th>9</th>\n",
       "      <td>2019</td>\n",
       "      <td>302676</td>\n",
       "      <td>239159</td>\n",
       "    </tr>\n",
       "    <tr>\n",
       "      <th>10</th>\n",
       "      <td>2020</td>\n",
       "      <td>272337</td>\n",
       "      <td>213502</td>\n",
       "    </tr>\n",
       "    <tr>\n",
       "      <th>11</th>\n",
       "      <td>2021</td>\n",
       "      <td>260562</td>\n",
       "      <td>192507</td>\n",
       "    </tr>\n",
       "  </tbody>\n",
       "</table>\n",
       "</div>"
      ],
      "text/plain": [
       "      시점    출생아수    혼인건수\n",
       "0   2010  470171  326104\n",
       "1   2011  471265  329087\n",
       "2   2012  484550  327073\n",
       "3   2013  436455  322807\n",
       "4   2014  435435  305507\n",
       "5   2015  438420  302828\n",
       "6   2016  406243  281635\n",
       "7   2017  357771  264455\n",
       "8   2018  326822  257622\n",
       "9   2019  302676  239159\n",
       "10  2020  272337  213502\n",
       "11  2021  260562  192507"
      ]
     },
     "execution_count": 57,
     "metadata": {},
     "output_type": "execute_result"
    }
   ],
   "source": [
    "# 2010년이 10번째 행임으로 index 정리하고 확인하기\n",
    "# 변수명.reset_index(drop=True, inplace=True)\n",
    "numData.reset_index(drop=True, inplace=True)\n",
    "numData"
   ]
  },
  {
   "cell_type": "markdown",
   "metadata": {
    "id": "y-PvwS87EIUO"
   },
   "source": [
    "###4.시각적으로 분석하며 질문에 답하기\n"
   ]
  },
  {
   "cell_type": "markdown",
   "metadata": {
    "id": "8zfJFjd75IZp"
   },
   "source": [
    "####1)한글 지원하기\n"
   ]
  },
  {
   "cell_type": "code",
   "execution_count": 58,
   "metadata": {
    "id": "gecw2Li45CRF"
   },
   "outputs": [
    {
     "name": "stdout",
     "output_type": "stream",
     "text": [
      "Requirement already satisfied: koreanize-matplotlib in /opt/homebrew/anaconda3/envs/aidata/lib/python3.12/site-packages (0.1.1)\n",
      "Requirement already satisfied: matplotlib in /opt/homebrew/anaconda3/envs/aidata/lib/python3.12/site-packages (from koreanize-matplotlib) (3.9.2)\n",
      "Requirement already satisfied: contourpy>=1.0.1 in /opt/homebrew/anaconda3/envs/aidata/lib/python3.12/site-packages (from matplotlib->koreanize-matplotlib) (1.3.0)\n",
      "Requirement already satisfied: cycler>=0.10 in /opt/homebrew/anaconda3/envs/aidata/lib/python3.12/site-packages (from matplotlib->koreanize-matplotlib) (0.12.1)\n",
      "Requirement already satisfied: fonttools>=4.22.0 in /opt/homebrew/anaconda3/envs/aidata/lib/python3.12/site-packages (from matplotlib->koreanize-matplotlib) (4.54.1)\n",
      "Requirement already satisfied: kiwisolver>=1.3.1 in /opt/homebrew/anaconda3/envs/aidata/lib/python3.12/site-packages (from matplotlib->koreanize-matplotlib) (1.4.7)\n",
      "Requirement already satisfied: numpy>=1.23 in /opt/homebrew/anaconda3/envs/aidata/lib/python3.12/site-packages (from matplotlib->koreanize-matplotlib) (2.1.1)\n",
      "Requirement already satisfied: packaging>=20.0 in /opt/homebrew/anaconda3/envs/aidata/lib/python3.12/site-packages (from matplotlib->koreanize-matplotlib) (24.1)\n",
      "Requirement already satisfied: pillow>=8 in /opt/homebrew/anaconda3/envs/aidata/lib/python3.12/site-packages (from matplotlib->koreanize-matplotlib) (10.4.0)\n",
      "Requirement already satisfied: pyparsing>=2.3.1 in /opt/homebrew/anaconda3/envs/aidata/lib/python3.12/site-packages (from matplotlib->koreanize-matplotlib) (3.1.4)\n",
      "Requirement already satisfied: python-dateutil>=2.7 in /opt/homebrew/anaconda3/envs/aidata/lib/python3.12/site-packages (from matplotlib->koreanize-matplotlib) (2.9.0.post0)\n",
      "Requirement already satisfied: six>=1.5 in /opt/homebrew/anaconda3/envs/aidata/lib/python3.12/site-packages (from python-dateutil>=2.7->matplotlib->koreanize-matplotlib) (1.16.0)\n"
     ]
    }
   ],
   "source": [
    "#차트에 한글 지원하기\n",
    "!pip install koreanize-matplotlib\n",
    "import koreanize_matplotlib"
   ]
  },
  {
   "cell_type": "markdown",
   "metadata": {
    "id": "ueV-vUju5MLt"
   },
   "source": [
    "####2)차트를 생성하기 위한 라이브러리 읽어오기\n"
   ]
  },
  {
   "cell_type": "code",
   "execution_count": 59,
   "metadata": {
    "id": "MaVX9FH0565-"
   },
   "outputs": [],
   "source": [
    "import matplotlib.pyplot as plt\n",
    "import numpy as np"
   ]
  },
  {
   "cell_type": "markdown",
   "metadata": {
    "id": "LqW0sfsd5PBO"
   },
   "source": [
    "####3) 혼인건수가 가장 적은 년도와 가장 많은 년도는 언제인가?\n"
   ]
  },
  {
   "cell_type": "code",
   "execution_count": 60,
   "metadata": {
    "id": "xDFSwjew8mtj"
   },
   "outputs": [],
   "source": [
    "# 년도에 따른 혼인건수를 plot차트로 생성하기\n",
    "# plt.plot(y축데이터)\n",
    "# plt.show()"
   ]
  },
  {
   "cell_type": "code",
   "execution_count": 61,
   "metadata": {
    "id": "EaKtxxvQGfGS"
   },
   "outputs": [],
   "source": [
    "# x축의 눈금값이 모두 나타나도록 차트 수정하기\n",
    "\n",
    "# plt.xticks(range(눈금값), 레이블)\n",
    "# - 눈금값: x, y 축 눈금에 표시할 눈금(range(), numpy.arrange())\n",
    "# - 레이블: 눈금값으로 표시할 레이블로 튜플이나 리스트로 설정\n",
    "\n",
    "\n",
    "plt.show()"
   ]
  },
  {
   "cell_type": "markdown",
   "metadata": {
    "id": "M74Kgelr5XEU"
   },
   "source": [
    "####4) 출생아수가 가장 적은 년도와 가장 많은 년도는 언제인가?\n"
   ]
  },
  {
   "cell_type": "code",
   "execution_count": 62,
   "metadata": {
    "id": "QjgAvUVVLkgR"
   },
   "outputs": [],
   "source": [
    "# 년도에 따른 혼인건수를 plot차트로 생성하기\n",
    "# plt.plot(y축데이터)\n",
    "# y축데이터: 출생아수\n",
    "\n",
    "\n",
    "plt.show()"
   ]
  },
  {
   "cell_type": "markdown",
   "metadata": {
    "id": "Ed5AnMNF5Yyc"
   },
   "source": [
    "####5) 출생아수가 혼인건수에 영향이 있는가?\n"
   ]
  },
  {
   "cell_type": "code",
   "execution_count": 63,
   "metadata": {
    "id": "paRcDyx7L8b8"
   },
   "outputs": [],
   "source": [
    "##년도에 따른 혼인건수와 출생아수를 하나의 plot차트로 생성하기(범례 삽입)\n",
    "# plt.plot(y축데이터, label='범례이름')\n",
    "# label='범례이름': plot 차트 선의 이름\n",
    "# plt.legend(): 범례를 차트내에 표시\n",
    "\n",
    "\n",
    "plt.show()"
   ]
  },
  {
   "cell_type": "markdown",
   "metadata": {
    "id": "61cWXzTz5nzN"
   },
   "source": [
    "####6) 차트 꾸며보기\n"
   ]
  },
  {
   "cell_type": "code",
   "execution_count": 64,
   "metadata": {
    "id": "1GE1IPS9M8EL"
   },
   "outputs": [],
   "source": [
    "# 모든 차트에 marker 추가하고 '출생아수' 차트의 markersize 조절하기\n",
    "# marker='마커종류': 선 위에 표현할 마커 모양 설정\n",
    "# markersize=정수: 마커의 크기 변경\n",
    "\n",
    "\n",
    "plt.show()"
   ]
  },
  {
   "cell_type": "code",
   "execution_count": 65,
   "metadata": {
    "id": "kI-jMs84NSyZ"
   },
   "outputs": [],
   "source": [
    "# 모든 차트에 linestyle 추가하고 출생아수 차트의 선두께 조절하기\n",
    "# linestyle='선종류': 선의 모양 설정\n",
    "# linewidth=정수: 선 두께 설정\n",
    "\n",
    "\n",
    "plt.show()"
   ]
  },
  {
   "cell_type": "code",
   "execution_count": 66,
   "metadata": {
    "id": "kXwW3SBxNtVT"
   },
   "outputs": [],
   "source": [
    "# 차트 색상 변경하기\n",
    "# color='색상': 선 색상 설정\n",
    "\n",
    "\n",
    "plt.show()"
   ]
  },
  {
   "cell_type": "code",
   "execution_count": 67,
   "metadata": {
    "id": "JvVTWJVuO0Gy"
   },
   "outputs": [],
   "source": [
    "# 혼인건수 차트의 색상, 마커, 선종류를 약식으로 표현해보기\n",
    "#'ro:' : color='r', marker='o', linestyle='-'\n",
    "\n",
    "\n",
    "plt.show()"
   ]
  },
  {
   "cell_type": "code",
   "execution_count": 68,
   "metadata": {
    "id": "uEBpZhEXPeYF"
   },
   "outputs": [],
   "source": [
    "# 차트제목, XY 레이블, grid 지정해보기\n",
    "# plt.title('차트제목') :지정한 차트제목을 차트 중앙 상단에 표시\n",
    "# plt.xlabel('x축제목'), plt.ylabel('y축제목') : x축과 y축의 제목을 지정한 문자열로 설정\n",
    "# plt.ylim(처음값, 마지막값)\n",
    "# plt.grid() : 차트내에 눈금선 표시\n",
    "\n",
    "\n",
    "plt.show()"
   ]
  },
  {
   "cell_type": "code",
   "execution_count": null,
   "metadata": {
    "id": "dfHQxl1vQNPv"
   },
   "outputs": [
    {
     "data": {
      "image/png": "[encoded data removed]",
      "text/plain": [
       "<Figure size 640x480 with 1 Axes>"
      ]
     },
     "metadata": {},
     "output_type": "display_data"
    }
   ],
   "source": [
    "plt.plot(numData[\"혼인건수\"], \"y.--\", label=\"혼인건수\")\n",
    "plt.plot(\n",
    "    numData[\"출생아수\"],\n",
    "    label=\"출생아수\",\n",
    "    marker=\"*\",\n",
    "    markersize=\"10\",\n",
    "    linestyle=\":\",\n",
    "    linewidth=3,\n",
    "    color=\"g\",\n",
    ")\n",
    "plt.legend()\n",
    "plt.xticks(range(len(numData[\"시점\"])), numData[\"시점\"])\n",
    "plt.rc(\"font\", family=\"AppleGothic\")\n",
    "plt.title(\"2010년 ~ 2021년 혼인건수에 따른 출생아수\")\n",
    "plt.xlabel(\"년도\")\n",
    "plt.ylabel(\"혼인선수(수) & 출생아수(명)\")\n",
    "plt.ylim(150000, 500000)\n",
    "plt.grid()\n",
    "plt.show()"
   ]
  },
  {
   "cell_type": "code",
   "execution_count": null,
   "metadata": {},
   "outputs": [],
   "source": []
  }
 ],
 "metadata": {
  "colab": {
   "provenance": []
  },
  "kernelspec": {
   "display_name": "aidata",
   "language": "python",
   "name": "aidata"
  },
  "language_info": {
   "codemirror_mode": {
    "name": "ipython",
    "version": 3
   },
   "file_extension": ".py",
   "mimetype": "text/x-python",
   "name": "python",
   "nbconvert_exporter": "python",
   "pygments_lexer": "ipython3",
   "version": "3.12.4"
  }
 },
 "nbformat": 4,
 "nbformat_minor": 0
}
