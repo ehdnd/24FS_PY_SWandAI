{
  "nbformat": 4,
  "nbformat_minor": 0,
  "metadata": {
    "colab": {
      "provenance": []
    },
    "kernelspec": {
      "name": "python3",
      "display_name": "Python 3"
    },
    "language_info": {
      "name": "python"
    }
  },
  "cells": [
    {
      "cell_type": "markdown",
      "source": [
        "#시도 구군별 교통사고 현황 알아보기\n",
        "*공공데이터화일 : https://www.data.go.kr/data/15070297/fileData.do\n",
        "\n",
        "*원활한 실습을 위하여 공공데이터 중 일부를 편집하여 [시군구별 교통사고 통계.csv]에 저장하였습니다. 제공해 드리는 화일을 활용해주세요\n"
      ],
      "metadata": {
        "id": "BdqQzya5GgRe"
      }
    },
    {
      "cell_type": "markdown",
      "source": [
        "##1.데이터 읽어오기\n",
        "#####1)Drive Mount 실행후 로그인하고 임의의 새로운 폴더를 생성해주세요.\n",
        "#####2)colab 왼쪽에 파일을 클릭하여 생성한 폴더에 [시군구별 교통사고 통계.csv]화일을 업로드해주세요."
      ],
      "metadata": {
        "id": "ya5_tCnYLXKO"
      }
    },
    {
      "cell_type": "code",
      "source": [
        "#Drive Mount 실행후 로그인하고 임의의 새로운 폴더를 생성해주세요\n",
        "from google.colab import drive\n",
        "drive.mount('/content/drive')"
      ],
      "metadata": {
        "id": "y72tDQbBlNoi"
      },
      "execution_count": null,
      "outputs": []
    },
    {
      "cell_type": "code",
      "execution_count": null,
      "metadata": {
        "id": "K2G7_ZYRY0-_"
      },
      "outputs": [],
      "source": [
        "# 시군구별 교통사고 통계.csv 화일 읽고 상위 5개 데이터 확인하기\n",
        "# 변수명 = pd.read_csv(‘파일경로명’, encoding=‘인코딩방식’)\n",
        "# 인코딩방식 :EUC_KR(한글이 포함된 일반적인 경우)/cp949(MS office에서 저장한 파일 형식)\n",
        "\n",
        "import\n",
        "\n",
        "accData =\n",
        "accData.head()"
      ]
    },
    {
      "cell_type": "markdown",
      "source": [
        "##2.데이터 정보 확인하기\n"
      ],
      "metadata": {
        "id": "ZCw_Vm5LSW7D"
      }
    },
    {
      "cell_type": "markdown",
      "source": [
        "####(1)행/열 및 데이터 타입 확인하기\n",
        "행과 열의 개수 확인하기"
      ],
      "metadata": {
        "id": "8cRZBLx6Z3YF"
      }
    },
    {
      "cell_type": "code",
      "source": [
        "#변수명.shape\n",
        "\n"
      ],
      "metadata": {
        "id": "DfG4QJFmSp2p"
      },
      "execution_count": null,
      "outputs": []
    },
    {
      "cell_type": "markdown",
      "source": [
        "행열개수, 데이터 타입, 열의 개수 등 데이터 정보 확인하기"
      ],
      "metadata": {
        "id": "1rkeDfxYTKxT"
      }
    },
    {
      "cell_type": "code",
      "source": [
        "#변수명.info()\n",
        "\n"
      ],
      "metadata": {
        "id": "dU1QFoP3ZgzL"
      },
      "execution_count": null,
      "outputs": []
    },
    {
      "cell_type": "markdown",
      "source": [
        "####(2)통계분포 확인하기\n",
        "- 변수명.describe() : 수치형 데이터의 통계분포 확인\n",
        "- 변수명.describe(include='object') :범주형 데이터의 통계분포 확인\n",
        "- 변수명.describe(include='all'): 모든 데이터(수치형, 범주형)의 통계치 확인\n",
        "\n"
      ],
      "metadata": {
        "id": "oukgzx_SS0u9"
      }
    },
    {
      "cell_type": "markdown",
      "source": [
        "수치형 데이터 통계 분포 확인하기"
      ],
      "metadata": {
        "id": "Mw4C-U5uW0Qx"
      }
    },
    {
      "cell_type": "code",
      "source": [],
      "metadata": {
        "id": "XK8Xhy5Uo_jF"
      },
      "execution_count": null,
      "outputs": []
    },
    {
      "cell_type": "markdown",
      "source": [
        "범주형(문자열) 데이터의 통계분포 확인하기\n",
        "\n"
      ],
      "metadata": {
        "id": "17UZAPajTbTI"
      }
    },
    {
      "cell_type": "code",
      "source": [],
      "metadata": {
        "id": "kBoxDlzYTauM"
      },
      "execution_count": null,
      "outputs": []
    },
    {
      "cell_type": "markdown",
      "source": [
        "모든 데이터(수치형, 범주형)의 통계 분포 확인하기"
      ],
      "metadata": {
        "id": "QGOgSOyETlx6"
      }
    },
    {
      "cell_type": "code",
      "source": [],
      "metadata": {
        "id": "pw8XzkSBTl-K"
      },
      "execution_count": null,
      "outputs": []
    },
    {
      "cell_type": "markdown",
      "source": [
        "##3.데이터에서 일부 행 확인하기\n"
      ],
      "metadata": {
        "id": "liPVFX2hT6m2"
      }
    },
    {
      "cell_type": "markdown",
      "source": [
        "####(1)상위 일부 데이터 확인하기\n",
        "- 변수명.head()\n",
        "- 변수명.head(3) : 위에서 3행 보기"
      ],
      "metadata": {
        "id": "idKafcIYZ7cD"
      }
    },
    {
      "cell_type": "code",
      "source": [
        "#상위 5개의 데이터 확인하기\n",
        "\n"
      ],
      "metadata": {
        "id": "iMh5E2c4UICB"
      },
      "execution_count": null,
      "outputs": []
    },
    {
      "cell_type": "code",
      "source": [
        "#상위 10개의 데이터 확인하기\n",
        "\n"
      ],
      "metadata": {
        "id": "HEJn8q_cUfe6"
      },
      "execution_count": null,
      "outputs": []
    },
    {
      "cell_type": "markdown",
      "source": [
        "###(2)하위 일부 데이터 확인하기\n",
        "- 변수명.tail()\n",
        "- 변수명.tail(3) : 위에서 3행 보기"
      ],
      "metadata": {
        "id": "BKzRFHopUpwo"
      }
    },
    {
      "cell_type": "code",
      "source": [
        "#하위 5개의 데이터 행 확인하기\n",
        "\n"
      ],
      "metadata": {
        "id": "-qVV0ompU9DG"
      },
      "execution_count": null,
      "outputs": []
    },
    {
      "cell_type": "code",
      "source": [
        "#하위 8개의 데이터 행 확인하기\n",
        "\n"
      ],
      "metadata": {
        "id": "rLE7xJn1Xcz8"
      },
      "execution_count": null,
      "outputs": []
    },
    {
      "cell_type": "markdown",
      "source": [
        "###(3)원하는 행부터 원하는 행까지 확인하기\n",
        "변수명[시작행:종료행]\n",
        "- 시작행이 0일때는 생략가능\n",
        "- 종료행이 마지막 행일 경우 생략 가능하며 [종료행-1]만큼 출력됨"
      ],
      "metadata": {
        "id": "b-Ur25-CXnEQ"
      }
    },
    {
      "cell_type": "code",
      "source": [
        "# 0~5행 확인하기\n",
        "\n"
      ],
      "metadata": {
        "id": "Vc-yM6CzX-7U"
      },
      "execution_count": null,
      "outputs": []
    },
    {
      "cell_type": "code",
      "source": [
        "# 처음부터 15행 확인하기 (단,0행은 생략해서 기술)\n",
        "\n"
      ],
      "metadata": {
        "id": "Eu-UPKdGYDRy"
      },
      "execution_count": null,
      "outputs": []
    },
    {
      "cell_type": "code",
      "source": [
        "#5행에서 15행까지 확인하기\n",
        "\n"
      ],
      "metadata": {
        "id": "cYxOmPJcX-rR"
      },
      "execution_count": null,
      "outputs": []
    },
    {
      "cell_type": "code",
      "source": [
        "#200행~203행까지 확인하기\n",
        "\n"
      ],
      "metadata": {
        "id": "DLc7OQOAX-iv"
      },
      "execution_count": null,
      "outputs": []
    },
    {
      "cell_type": "code",
      "source": [
        "#195행부터 마지막행까지 확인하기\n",
        "\n"
      ],
      "metadata": {
        "id": "MEYOKyquX-Zf"
      },
      "execution_count": null,
      "outputs": []
    },
    {
      "cell_type": "markdown",
      "source": [
        "##4.데이터에서 특정 열 확인하기"
      ],
      "metadata": {
        "id": "KC7_hQ4cbtVn"
      }
    },
    {
      "cell_type": "markdown",
      "source": [
        "- 변수명['열이름']: 특정 '열이름'에 해당하는 데이터만 출력\n",
        "- 변수명[['열이름']]: 대괄호 2개 사용시 특정 '열이름'에 해당하는 데이터를 DataFrame 으로 출력\n",
        "- 변수명[['열이름1', '열이름2]]: 여러개의 열에 해당하는 데이터를 출력"
      ],
      "metadata": {
        "id": "O7KnJEyDexoR"
      }
    },
    {
      "cell_type": "code",
      "source": [
        "#'광역지방자치'열의 데이터 확인하기\n",
        "\n"
      ],
      "metadata": {
        "id": "LgH94_5BenFI"
      },
      "execution_count": null,
      "outputs": []
    },
    {
      "cell_type": "code",
      "source": [
        "# '광역지방자치'열을 DataFrame 형식의 데이터 보기\n",
        "\n"
      ],
      "metadata": {
        "id": "bn0byLJ6enCu"
      },
      "execution_count": null,
      "outputs": []
    },
    {
      "cell_type": "code",
      "source": [
        "# 기초지방자치와 사망자수열의 데이터 확인하기\n",
        "\n"
      ],
      "metadata": {
        "id": "JPGalCuaenAH"
      },
      "execution_count": null,
      "outputs": []
    },
    {
      "cell_type": "markdown",
      "source": [
        "##5.특정행과 열에 대한 데이터 확인 및 저장하기\n",
        "- 변수명[['열이름1', '열이름2]].head(): 여러개의 열에 해당하는 데이터중 상위 5개 출력\n",
        "- 변수명[['열이름1', '열이름2]][:]:: 여러개의 열에 해당하는 데이터중 지정한 행들을 출력\n",
        "- 변수명[['열이름1', '열이름2]].tail():: 여러개의 열에 해당하는 데이터중 하위 5개 출력\n",
        "- 새로운변수명 = 변수명[['열이름1', '열이름2]][:]:여러개의 열에 해당하는 데이터 지정한 행들을 [새로운변수명]에 저장"
      ],
      "metadata": {
        "id": "98gLMpU-fSPd"
      }
    },
    {
      "cell_type": "code",
      "source": [
        "# 기초지방자치와 사망자수열의 데이터중 상위 5개 행 확인하기\n",
        "\n"
      ],
      "metadata": {
        "id": "0-1ifnC_hdtG"
      },
      "execution_count": null,
      "outputs": []
    },
    {
      "cell_type": "code",
      "source": [
        "# 광역지방자치와 사망자수 열의 데이터중 193~197행 확인하기\n",
        "\n"
      ],
      "metadata": {
        "id": "EP8UBAM5hdkn"
      },
      "execution_count": null,
      "outputs": []
    },
    {
      "cell_type": "code",
      "source": [
        "# 광역지방자치와 사망자수 열의 데이터중 하위 6개 행 확인하기\n",
        "\n"
      ],
      "metadata": {
        "id": "hTKe_vmahdZa"
      },
      "execution_count": null,
      "outputs": []
    },
    {
      "cell_type": "markdown",
      "source": [
        "##6.데이터들의 개수 확인하기\n",
        "\n",
        "변수명['열이름'].value_counts(normalize=True, sort=False)\n",
        "- normalize=True: 데이터가 차지하는 비율을 확인하고자 할때 사용\n",
        "- sort=False: 결과에 대한 내림차순을 적용하지 않음"
      ],
      "metadata": {
        "id": "kbTNv9p8gIZ4"
      }
    },
    {
      "cell_type": "code",
      "source": [
        "# 광역지방자치 데이터 들의 개수 확인하기\n",
        "\n"
      ],
      "metadata": {
        "id": "htkPp3oXgI6k"
      },
      "execution_count": null,
      "outputs": []
    },
    {
      "cell_type": "code",
      "source": [
        "# 광역지방자치 데이터들의 비율 확인하기\n",
        "\n"
      ],
      "metadata": {
        "id": "jNzDLPXsgKCc"
      },
      "execution_count": null,
      "outputs": []
    },
    {
      "cell_type": "code",
      "source": [
        "#광역지방자치 데이터들의 비율 확인하기(결과 정렬하기 않기)\n",
        "\n"
      ],
      "metadata": {
        "id": "CEhuE-qigJl4"
      },
      "execution_count": null,
      "outputs": []
    },
    {
      "cell_type": "markdown",
      "source": [
        "##7.데이터 전처리하기\n"
      ],
      "metadata": {
        "id": "jKQBAf--MkvJ"
      }
    },
    {
      "cell_type": "markdown",
      "source": [
        "###(1)열 정리하기"
      ],
      "metadata": {
        "id": "CSPEvEoZZoOy"
      }
    },
    {
      "cell_type": "code",
      "source": [
        "#광역지방자치->시도 열이름 변경하기\n",
        "#변수명.rename(columns = {‘열이름’: ‘새로운 열이름’})\n",
        "\n"
      ],
      "metadata": {
        "id": "u5YuYRGecDzE"
      },
      "execution_count": null,
      "outputs": []
    },
    {
      "cell_type": "code",
      "source": [
        "#변경 내용 재확인을 위해서 상위 5개 행 확인\n",
        "#상위 코드에서 열이름을 변경하였지만 실제 데이터에는 반영되지 않음\n",
        "\n"
      ],
      "metadata": {
        "id": "Q_61VhWac1Vo"
      },
      "execution_count": null,
      "outputs": []
    },
    {
      "cell_type": "code",
      "source": [
        "#광역지방자치->시도\n",
        "#기초지방자치->시군구\n",
        "#열이름 변경하고 현재 테이블에 결과 반영하기\n",
        "#변수명.rename(columns = {'열이름':'새로운 열이름'}, inplace= True)\n",
        "#inplace=True 사용시 이전 열이름 더이상 사용할 수 없음\n",
        "\n",
        "\n",
        "accData.head()"
      ],
      "metadata": {
        "id": "23bgpFOPclNk"
      },
      "execution_count": null,
      "outputs": []
    },
    {
      "cell_type": "code",
      "source": [
        "#'사고건수' 열 삭제하기\n",
        "#변수명.drop(columns=['열이름'], axis=1)\n",
        "\n"
      ],
      "metadata": {
        "id": "EkkO9d2RdQsV"
      },
      "execution_count": null,
      "outputs": []
    },
    {
      "cell_type": "code",
      "source": [
        "#변경 내용 재확인을 위해서 상위 5개 행 확인\n",
        "#상위 코드에서 열을 삭제하였지만 실제 데이터에는 반영되지 않음\n",
        "\n"
      ],
      "metadata": {
        "id": "mq2z32ejpZQH"
      },
      "execution_count": null,
      "outputs": []
    },
    {
      "cell_type": "code",
      "source": [
        "#삭제한 열을 원본 테이터에 반영하기\n",
        "#변수명.drop(columns=['열이름'], axis=1, inplace= True)\n",
        "#inplace= True 사용 후 '사고건수'열을 더 이상 사용할 수 없음\n",
        "\n",
        "\n",
        "accData"
      ],
      "metadata": {
        "id": "2DRjosHVpd07"
      },
      "execution_count": null,
      "outputs": []
    },
    {
      "cell_type": "markdown",
      "source": [
        "###(2)행 정리하기"
      ],
      "metadata": {
        "id": "VkF3DcNuftoK"
      }
    },
    {
      "cell_type": "code",
      "source": [
        "#0번째 행 삭제 후 상위 5개 데이터의 index 확인하기\n",
        "#변수명.drop(index=행번호, axis=0)\n",
        "\n"
      ],
      "metadata": {
        "id": "IsEC_DG6pusi"
      },
      "execution_count": null,
      "outputs": []
    },
    {
      "cell_type": "code",
      "source": [
        "#1, 3, 5번째 행 삭제 후 상위 5개 데이터의 index 확인하기\n",
        "#변수명.drop(index=행번호, axis=0, index=[2, 4])\n",
        "\n"
      ],
      "metadata": {
        "id": "Ln1YRN97tC4m"
      },
      "execution_count": null,
      "outputs": []
    },
    {
      "cell_type": "code",
      "source": [
        "#0번째~5번째 행 삭제 후 상위 5개 데이터의 index 확인하기\n",
        "#변수명.index[0:5] 속성 추가\n",
        "\n"
      ],
      "metadata": {
        "id": "fv2XsTLVr2_u"
      },
      "execution_count": null,
      "outputs": []
    },
    {
      "cell_type": "code",
      "source": [
        "#0번째~15번째 행 삭제하고 원본데이터에 반영 후 상위 20개 확인하기\n",
        "#inplce =True 속성 추가\n",
        "\n",
        "\n"
      ],
      "metadata": {
        "id": "l_E_piNlsd6q"
      },
      "execution_count": null,
      "outputs": []
    },
    {
      "cell_type": "code",
      "source": [
        "#index 번호 재설정하기\n",
        "#변수명.reset_index()\n",
        "\n"
      ],
      "metadata": {
        "id": "O9XP1BWktfYH"
      },
      "execution_count": null,
      "outputs": []
    },
    {
      "cell_type": "code",
      "source": [
        "#기존 index 버리고 새로운 인덱스 설정하며 원본 데이터에 반영하기\n",
        "#변수명.reset_index(drop=True, inplace=True)\n",
        "#drop=True : 기존 index 열 삭제됨\n",
        "\n",
        "\n"
      ],
      "metadata": {
        "id": "NiN8Cbz9l2kx"
      },
      "execution_count": null,
      "outputs": []
    },
    {
      "cell_type": "code",
      "source": [],
      "metadata": {
        "id": "Unyv1Q-5eKNK"
      },
      "execution_count": null,
      "outputs": []
    }
  ]
}