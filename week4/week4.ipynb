{
 "cells": [
  {
   "cell_type": "code",
   "execution_count": 10,
   "metadata": {},
   "outputs": [],
   "source": [
    "자치구 = [\"강남구\", \"강동구\", \"강북구\", \"강서구\"]\n",
    "대여소명 = [\n",
    "    \"2301. 현대고등학교 건너편\",\n",
    "    \"1002. 해공공원(천호동)\",\n",
    "    \"1512. 강북중학교 앞\",\n",
    "    \"1106. 신방화사거리\",\n",
    "]\n",
    "대여건수 = [2170, 3085, 2468, 4883]\n",
    "반납건수 = [2183, 3111, 2489, 5307]\n",
    "\n",
    "열정보 = [\"자치구\", \"대여소명\", \"대여건수\", \"반납건수\"]\n",
    "이용정보 = [\n",
    "    [\"강남구\", \"2301. 현대고등학교 건너편\", 2170, 2183],\n",
    "    [\"강동구\", \"1002. 해공공원(천호동)\", 3085, 3111],\n",
    "    [\"강북구\", \"1512. 강북중학교 앞\", 2468, 2489],\n",
    "    [\"강서구\", \"1106. 신방화사거리\", 4883, 5307],\n",
    "]"
   ]
  },
  {
   "cell_type": "code",
   "execution_count": 11,
   "metadata": {},
   "outputs": [],
   "source": [
    "import pandas as pd"
   ]
  },
  {
   "cell_type": "code",
   "execution_count": 13,
   "metadata": {},
   "outputs": [
    {
     "data": {
      "text/html": [
       "<div>\n",
       "<style scoped>\n",
       "    .dataframe tbody tr th:only-of-type {\n",
       "        vertical-align: middle;\n",
       "    }\n",
       "\n",
       "    .dataframe tbody tr th {\n",
       "        vertical-align: top;\n",
       "    }\n",
       "\n",
       "    .dataframe thead th {\n",
       "        text-align: right;\n",
       "    }\n",
       "</style>\n",
       "<table border=\"1\" class=\"dataframe\">\n",
       "  <thead>\n",
       "    <tr style=\"text-align: right;\">\n",
       "      <th></th>\n",
       "      <th>자치구</th>\n",
       "      <th>대여소명</th>\n",
       "      <th>대여건수</th>\n",
       "      <th>반납건수</th>\n",
       "    </tr>\n",
       "  </thead>\n",
       "  <tbody>\n",
       "    <tr>\n",
       "      <th>0</th>\n",
       "      <td>강남구</td>\n",
       "      <td>2301. 현대고등학교 건너편</td>\n",
       "      <td>2170</td>\n",
       "      <td>2183</td>\n",
       "    </tr>\n",
       "    <tr>\n",
       "      <th>1</th>\n",
       "      <td>강동구</td>\n",
       "      <td>1002. 해공공원(천호동)</td>\n",
       "      <td>3085</td>\n",
       "      <td>3111</td>\n",
       "    </tr>\n",
       "    <tr>\n",
       "      <th>2</th>\n",
       "      <td>강북구</td>\n",
       "      <td>1512. 강북중학교 앞</td>\n",
       "      <td>2468</td>\n",
       "      <td>2489</td>\n",
       "    </tr>\n",
       "    <tr>\n",
       "      <th>3</th>\n",
       "      <td>강서구</td>\n",
       "      <td>1106. 신방화사거리</td>\n",
       "      <td>4883</td>\n",
       "      <td>5307</td>\n",
       "    </tr>\n",
       "  </tbody>\n",
       "</table>\n",
       "</div>"
      ],
      "text/plain": [
       "   자치구              대여소명  대여건수  반납건수\n",
       "0  강남구  2301. 현대고등학교 건너편  2170  2183\n",
       "1  강동구   1002. 해공공원(천호동)  3085  3111\n",
       "2  강북구     1512. 강북중학교 앞  2468  2489\n",
       "3  강서구      1106. 신방화사거리  4883  5307"
      ]
     },
     "execution_count": 13,
     "metadata": {},
     "output_type": "execute_result"
    }
   ],
   "source": [
    "data = pd.DataFrame(\n",
    "    {\"자치구\": 자치구, \"대여소명\": 대여소명, \"대여건수\": 대여건수, \"반납건수\": 반납건수}\n",
    ")\n",
    "data"
   ]
  },
  {
   "cell_type": "code",
   "execution_count": null,
   "metadata": {},
   "outputs": [],
   "source": []
  }
 ],
 "metadata": {
  "kernelspec": {
   "display_name": "aidata",
   "language": "python",
   "name": "aidata"
  },
  "language_info": {
   "codemirror_mode": {
    "name": "ipython",
    "version": 3
   },
   "file_extension": ".py",
   "mimetype": "text/x-python",
   "name": "python",
   "nbconvert_exporter": "python",
   "pygments_lexer": "ipython3",
   "version": "3.12.4"
  }
 },
 "nbformat": 4,
 "nbformat_minor": 2
}
