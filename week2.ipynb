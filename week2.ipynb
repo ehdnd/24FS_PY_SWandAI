{
 "cells": [
  {
   "cell_type": "markdown",
   "metadata": {},
   "source": [
    "1. 리스트를 만드는 두가지 방법\n"
   ]
  },
  {
   "cell_type": "code",
   "execution_count": 5,
   "metadata": {},
   "outputs": [
    {
     "data": {
      "text/plain": [
       "([], [])"
      ]
     },
     "execution_count": 5,
     "metadata": {},
     "output_type": "execute_result"
    }
   ],
   "source": [
    "a = []\n",
    "b = list()\n",
    "a, b"
   ]
  },
  {
   "cell_type": "markdown",
   "metadata": {},
   "source": [
    "2. range(시작, 종료, 증가) 함수를 `list()` 함수와 같이 사용하자\n"
   ]
  },
  {
   "cell_type": "code",
   "execution_count": 15,
   "metadata": {},
   "outputs": [
    {
     "name": "stdout",
     "output_type": "stream",
     "text": [
      "10\n",
      "[1, 2, 3, 4, 5, 6, 7, 8, 9, 10] [5, 10, 15, 20]\n"
     ]
    }
   ],
   "source": [
    "a = list(range(1,11,1))\n",
    "b = list(range(5,21,5))\n",
    "print(len(a))\n",
    "print(a, b)"
   ]
  },
  {
   "cell_type": "markdown",
   "metadata": {},
   "source": [
    "3. 인덱싱 - 리스트명[] / 인덱스는 0번부터 시작\n"
   ]
  },
  {
   "cell_type": "code",
   "execution_count": 16,
   "metadata": {},
   "outputs": [
    {
     "name": "stdout",
     "output_type": "stream",
     "text": [
      "10\n"
     ]
    }
   ],
   "source": [
    "a = [10, 20, 30]\n",
    "print(a[0])"
   ]
  },
  {
   "cell_type": "code",
   "execution_count": 17,
   "metadata": {},
   "outputs": [
    {
     "name": "stdout",
     "output_type": "stream",
     "text": [
      "[100, 200, 300]\n"
     ]
    }
   ],
   "source": [
    "a = [10, 20, 30]\n",
    "a[0] = 100\n",
    "a[1] = 200\n",
    "a[2] = 300\n",
    "print(a)"
   ]
  },
  {
   "cell_type": "code",
   "execution_count": 18,
   "metadata": {},
   "outputs": [
    {
     "name": "stdout",
     "output_type": "stream",
     "text": [
      "['서울', '부산', '인천', '대구']\n"
     ]
    }
   ],
   "source": [
    "cities = [\"서울\", \"부산\", \"인천\", \"대구\", \"광주\"]\n",
    "print(cities[0:4])"
   ]
  },
  {
   "cell_type": "markdown",
   "metadata": {},
   "source": [
    "4. 리버스 인덱스\n"
   ]
  },
  {
   "cell_type": "code",
   "execution_count": 1,
   "metadata": {},
   "outputs": [
    {
     "name": "stdout",
     "output_type": "stream",
     "text": [
      "40\n"
     ]
    }
   ],
   "source": [
    "a = [0, 10, 20, 30, 40]\n",
    "print(a[-1])"
   ]
  },
  {
   "cell_type": "markdown",
   "metadata": {},
   "source": [
    "5. 증가값 (step)\n",
    "   변수명[시작 인덱스:마지막 인덱스:증가값]\n"
   ]
  },
  {
   "cell_type": "code",
   "execution_count": 3,
   "metadata": {},
   "outputs": [
    {
     "name": "stdout",
     "output_type": "stream",
     "text": [
      "[0, 20, 40, 60, 80]\n",
      "[10, 40, 70]\n"
     ]
    }
   ],
   "source": [
    "a = [0, 10, 20, 30, 40, 50, 60, 70, 80, 90]\n",
    "print(a[::2])\n",
    "print(a[1::3])"
   ]
  },
  {
   "cell_type": "code",
   "execution_count": 4,
   "metadata": {},
   "outputs": [
    {
     "name": "stdout",
     "output_type": "stream",
     "text": [
      "[20, 30, 40]\n",
      "[20, 30, 40, 50, 60, 70, 80, 90]\n",
      "[50, 60, 70, 80]\n"
     ]
    }
   ],
   "source": [
    "arr = [0, 10, 20, 30, 40, 50, 60, 70, 80, 90]\n",
    "print(arr[2:5])\n",
    "print(arr[2:])\n",
    "print(arr[-5:-1])"
   ]
  },
  {
   "cell_type": "markdown",
   "metadata": {},
   "source": [
    "6. 리스트에서 데이터 추가하기\n"
   ]
  },
  {
   "cell_type": "code",
   "execution_count": 6,
   "metadata": {},
   "outputs": [
    {
     "name": "stdout",
     "output_type": "stream",
     "text": [
      "[10, 20, 30, 40]\n"
     ]
    }
   ],
   "source": [
    "c = [10, 20, 30]\n",
    "c.append(40)\n",
    "print(c)"
   ]
  },
  {
   "cell_type": "code",
   "execution_count": 7,
   "metadata": {},
   "outputs": [
    {
     "name": "stdout",
     "output_type": "stream",
     "text": [
      "[10, 100, 20, 30]\n"
     ]
    }
   ],
   "source": [
    "c = [10, 20, 30]\n",
    "c.insert(1,100)\n",
    "print(c)"
   ]
  },
  {
   "cell_type": "code",
   "execution_count": 8,
   "metadata": {},
   "outputs": [
    {
     "name": "stdout",
     "output_type": "stream",
     "text": [
      "[1, 2, 3, 10, 20, 30]\n",
      "[10, 20, 30]\n"
     ]
    }
   ],
   "source": [
    "a = [1, 2, 3]\n",
    "b = [10, 20, 30]\n",
    "a.extend(b)\n",
    "print(a)\n",
    "print(b)"
   ]
  },
  {
   "cell_type": "code",
   "execution_count": 9,
   "metadata": {},
   "outputs": [
    {
     "name": "stdout",
     "output_type": "stream",
     "text": [
      "[1, 2, 3, 10, 20, 30]\n"
     ]
    }
   ],
   "source": [
    "a = [1, 2, 3]\n",
    "b = [10, 20, 30]\n",
    "c = a + b\n",
    "print(c)"
   ]
  },
  {
   "cell_type": "code",
   "execution_count": 11,
   "metadata": {},
   "outputs": [
    {
     "name": "stdout",
     "output_type": "stream",
     "text": [
      "[1, 2, 3, 4, 5, 6]\n"
     ]
    }
   ],
   "source": [
    "a = [1, 2, 3]\n",
    "a += [4, 5, 6]\n",
    "print(a)"
   ]
  },
  {
   "cell_type": "markdown",
   "metadata": {},
   "source": [
    "7. 리스트의 연산\n"
   ]
  },
  {
   "cell_type": "code",
   "execution_count": 13,
   "metadata": {},
   "outputs": [
    {
     "name": "stdout",
     "output_type": "stream",
     "text": [
      "[10, 20, 30, 10, 20, 30]\n",
      "True\n",
      "False\n"
     ]
    }
   ],
   "source": [
    "c1 = [10, 20, 30]\n",
    "c2 = [100, 200, 300]\n",
    "print(c1 * 2)\n",
    "print(100 in c2)\n",
    "print(10 in c2)"
   ]
  },
  {
   "cell_type": "markdown",
   "metadata": {},
   "source": [
    "# 추가예제\n"
   ]
  },
  {
   "cell_type": "code",
   "execution_count": 14,
   "metadata": {},
   "outputs": [
    {
     "name": "stdout",
     "output_type": "stream",
     "text": [
      "[100, 90, 80, 70, 60]\n",
      "합계:  400\n",
      "평균:  80.0\n"
     ]
    }
   ],
   "source": [
    "scores = []\n",
    "for i in range(5):\n",
    "    value = int(input(\"성적 입력: \"))\n",
    "    scores.append(value)\n",
    "print(scores)\n",
    "\n",
    "sum = 0\n",
    "for i in range(5):\n",
    "    sum += scores[i]\n",
    "print(\"합계: \", sum)\n",
    "print(\"평균: \", (sum/5))"
   ]
  },
  {
   "cell_type": "markdown",
   "metadata": {},
   "source": [
    "8. 튜플의 이해\n"
   ]
  },
  {
   "cell_type": "code",
   "execution_count": 15,
   "metadata": {},
   "outputs": [
    {
     "name": "stdout",
     "output_type": "stream",
     "text": [
      "(1, 2, 3, 1, 2, 3)\n",
      "(1, 2, 3, 1, 2, 3)\n",
      "3\n"
     ]
    }
   ],
   "source": [
    "t = (1, 2, 3)\n",
    "print(t + t)\n",
    "print(t * 2)\n",
    "print(len(t))"
   ]
  },
  {
   "cell_type": "code",
   "execution_count": 23,
   "metadata": {},
   "outputs": [
    {
     "name": "stdout",
     "output_type": "stream",
     "text": [
      "(1, 2, 3, 10, 20, 30)\n",
      "(10, 20, 30, 10, 20, 30, 10, 20, 30)\n"
     ]
    }
   ],
   "source": [
    "t1 = (1, 2, 3)\n",
    "t2 = tuple([10, 20, 30])\n",
    "t3 = t1 + t2\n",
    "print(t3)\n",
    "t4 = t2 * 3\n",
    "print(t4)"
   ]
  },
  {
   "cell_type": "markdown",
   "metadata": {},
   "source": [
    "9. 딕셔너리의 사용\n"
   ]
  },
  {
   "cell_type": "code",
   "execution_count": 26,
   "metadata": {},
   "outputs": [
    {
     "name": "stdout",
     "output_type": "stream",
     "text": [
      "20243334\n",
      "장태웅\n",
      "융합특성화자유전공학부\n",
      "{'학번': 20243334, '이름': '장태웅', '학과': '융합특성화자유전공학부', '학교': '숭실대학교'}\n",
      "{'학번': 20243334, '이름': '장태웅', '학교': '숭실대학교'}\n"
     ]
    }
   ],
   "source": [
    "stdDic = {\n",
    "    '학번': 20243334,\n",
    "    '이름': '장태웅',\n",
    "    '학과': '융합특성화자유전공학부'\n",
    "}\n",
    "print(stdDic[\"학번\"])\n",
    "print(stdDic[\"이름\"])\n",
    "print(stdDic[\"학과\"])\n",
    "\n",
    "stdDic[\"학교\"] = \"숭실대학교\"\n",
    "print(stdDic)\n",
    "\n",
    "del stdDic[\"학과\"]\n",
    "print(stdDic)"
   ]
  }
 ],
 "metadata": {
  "kernelspec": {
   "display_name": "aidata",
   "language": "python",
   "name": "aidata"
  },
  "language_info": {
   "codemirror_mode": {
    "name": "ipython",
    "version": 3
   },
   "file_extension": ".py",
   "mimetype": "text/x-python",
   "name": "python",
   "nbconvert_exporter": "python",
   "pygments_lexer": "ipython3",
   "version": "3.12.4"
  }
 },
 "nbformat": 4,
 "nbformat_minor": 2
}
