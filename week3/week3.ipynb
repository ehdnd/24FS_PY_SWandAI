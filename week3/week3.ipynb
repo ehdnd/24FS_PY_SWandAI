{
 "cells": [
  {
   "cell_type": "markdown",
   "metadata": {},
   "source": [
    "# 3-1. Pandas 판다스의 기본\n"
   ]
  },
  {
   "cell_type": "markdown",
   "metadata": {},
   "source": [
    "## Series\n"
   ]
  },
  {
   "cell_type": "markdown",
   "metadata": {},
   "source": [
    "1차원 배열 형태로써 같은 종류의 데이터가 순서대로 나열된 데이터 구조\n"
   ]
  },
  {
   "cell_type": "markdown",
   "metadata": {},
   "source": [
    "### index 자동 부여\n"
   ]
  },
  {
   "cell_type": "code",
   "execution_count": 52,
   "metadata": {},
   "outputs": [],
   "source": [
    "import pandas as pd"
   ]
  },
  {
   "cell_type": "code",
   "execution_count": 53,
   "metadata": {},
   "outputs": [],
   "source": [
    "data = pd.Series([3, 4, 5])"
   ]
  },
  {
   "cell_type": "code",
   "execution_count": 54,
   "metadata": {},
   "outputs": [
    {
     "name": "stdout",
     "output_type": "stream",
     "text": [
      "0    3\n",
      "1    4\n",
      "2    5\n",
      "dtype: int64\n"
     ]
    }
   ],
   "source": [
    "print(data)"
   ]
  },
  {
   "cell_type": "code",
   "execution_count": 55,
   "metadata": {},
   "outputs": [
    {
     "name": "stdout",
     "output_type": "stream",
     "text": [
      "3\n"
     ]
    }
   ],
   "source": [
    "print(data[0])"
   ]
  },
  {
   "cell_type": "markdown",
   "metadata": {},
   "source": [
    "### index 직접 부여\n"
   ]
  },
  {
   "cell_type": "code",
   "execution_count": 56,
   "metadata": {},
   "outputs": [],
   "source": [
    "x_data = pd.Series([20, 30, 40], index=[\"kim\", \"lee\", \"park\"])\n"
   ]
  },
  {
   "cell_type": "code",
   "execution_count": 57,
   "metadata": {},
   "outputs": [
    {
     "name": "stdout",
     "output_type": "stream",
     "text": [
      "kim     20\n",
      "lee     30\n",
      "park    40\n",
      "dtype: int64\n"
     ]
    }
   ],
   "source": [
    "print(x_data)"
   ]
  },
  {
   "cell_type": "code",
   "execution_count": 58,
   "metadata": {},
   "outputs": [
    {
     "name": "stdout",
     "output_type": "stream",
     "text": [
      "20\n"
     ]
    }
   ],
   "source": [
    "print(x_data[\"kim\"])"
   ]
  },
  {
   "cell_type": "markdown",
   "metadata": {},
   "source": [
    "## DataFrame\n"
   ]
  },
  {
   "cell_type": "markdown",
   "metadata": {},
   "source": [
    "2차원 배열 형태로써 데이터를 표 형식 데이터 (행, 열) 구조로 저장\n"
   ]
  },
  {
   "cell_type": "markdown",
   "metadata": {},
   "source": [
    "### 리스트로 DataFrame 생성하기\n"
   ]
  },
  {
   "cell_type": "markdown",
   "metadata": {},
   "source": [
    "이차원 배열을 stdData 에 넣었다가 pandas에 넣어주었다\n"
   ]
  },
  {
   "cell_type": "code",
   "execution_count": 59,
   "metadata": {},
   "outputs": [],
   "source": [
    "stdData = [\n",
    "    [\"kim\", 20, \"서울시\"],\n",
    "    [\"lee\", 25, \"경기도\" ],\n",
    "    [\"park\", 22, \"제주도\"],\n",
    "    [\"choi\", 19, \"강원도\"]\n",
    "]"
   ]
  },
  {
   "cell_type": "code",
   "execution_count": 60,
   "metadata": {},
   "outputs": [
    {
     "name": "stdout",
     "output_type": "stream",
     "text": [
      "      0   1    2\n",
      "0   kim  20  서울시\n",
      "1   lee  25  경기도\n",
      "2  park  22  제주도\n",
      "3  choi  19  강원도\n"
     ]
    }
   ],
   "source": [
    "df = pd.DataFrame(stdData)\n",
    "print(df)"
   ]
  },
  {
   "cell_type": "markdown",
   "metadata": {},
   "source": [
    "#### 컬럼의 이름을 바꿀수 있다\n"
   ]
  },
  {
   "cell_type": "code",
   "execution_count": 61,
   "metadata": {},
   "outputs": [
    {
     "name": "stdout",
     "output_type": "stream",
     "text": [
      "     이름  나이   주소\n",
      "0   kim  20  서울시\n",
      "1   lee  25  경기도\n",
      "2  park  22  제주도\n",
      "3  choi  19  강원도\n"
     ]
    }
   ],
   "source": [
    "df = pd.DataFrame(stdData, columns=[\"이름\", \"나이\", \"주소\"])\n",
    "print(df)"
   ]
  },
  {
   "cell_type": "markdown",
   "metadata": {},
   "source": [
    "### DatFrame 생성하기\n"
   ]
  },
  {
   "cell_type": "markdown",
   "metadata": {},
   "source": [
    "딕셔너리 구조로 입력\n"
   ]
  },
  {
   "cell_type": "code",
   "execution_count": 62,
   "metadata": {},
   "outputs": [],
   "source": [
    "이름 = [\"kim\", \"lee\", \"park\", \"choi\"]\n",
    "나이 = [20, 25, 22, 19]\n",
    "주소 = [\"서울시\", \"경기도\", \"제주도\", \"강원도\"]"
   ]
  },
  {
   "cell_type": "code",
   "execution_count": 63,
   "metadata": {},
   "outputs": [
    {
     "name": "stdout",
     "output_type": "stream",
     "text": [
      "   name  age addr\n",
      "0   kim   20  서울시\n",
      "1   lee   25  경기도\n",
      "2  park   22  제주도\n",
      "3  choi   19  강원도\n"
     ]
    }
   ],
   "source": [
    "df = pd.DataFrame({\n",
    "    \"name\": 이름,\n",
    "    \"age\": 나이,\n",
    "    \"addr\": 주소\n",
    "})\n",
    "print(df)"
   ]
  },
  {
   "cell_type": "markdown",
   "metadata": {},
   "source": [
    "# 3-2. 공공데이터 파일을 읽어오자\n"
   ]
  },
  {
   "cell_type": "markdown",
   "metadata": {},
   "source": [
    "## CSV와 TXT 파일\n"
   ]
  },
  {
   "cell_type": "markdown",
   "metadata": {},
   "source": [
    "CSV: 콤마로 구분된 파일\n",
    "\n",
    "공공데이터의 경우 CSV로 제공되는 경우가 많다\n",
    "\n",
    "엑셀과 메모장에서 열 수 있다\n"
   ]
  },
  {
   "cell_type": "markdown",
   "metadata": {},
   "source": [
    "### 기본 문법\n"
   ]
  },
  {
   "cell_type": "markdown",
   "metadata": {},
   "source": [
    "`pd.read_csv( filename, properties )` 로 사용을 해주자\n",
    "\n",
    "csv 와 txt 파일을 읽어서 DataFrame 으로 변환하여 저장할 것\n",
    "\n",
    "파일명: csv 또는 txt 파일 이름으로\n",
    "\n",
    "`delimiter=\"구분기호\"`: 열을 구분하는 구분기호를 명시하자\n",
    "\n",
    "`header=[행번호]`: 열이름 (변수이름)으로 설정할 index 번호 기술\n",
    "\n",
    "`skiprows=[행번호]`: 읽어오지 않을 행번호 지정\n",
    "\n",
    "`endocind=[인코딩방식]`: 한글이 깨져서 보일 경우 인코딩 방식 설정\n",
    "\n",
    "`thousands=\",\"`: , 가 포함된 문자열 데티러를 , 를 삭제하고 숫자형 데이터로 변경\n"
   ]
  },
  {
   "cell_type": "markdown",
   "metadata": {},
   "source": [
    "## 예시 데이터를 사용해보자\n"
   ]
  },
  {
   "cell_type": "markdown",
   "metadata": {},
   "source": [
    "### `exam_.txt` 파일 - 컴마가 구분기호\n"
   ]
  },
  {
   "cell_type": "markdown",
   "metadata": {},
   "source": [
    "컴마가 구분기호기 때문에 그대로 불러오기\n"
   ]
  },
  {
   "cell_type": "markdown",
   "metadata": {},
   "source": [
    "name, score, absent\n",
    "\n",
    "kim, 95, 3\n",
    "\n",
    "choi, 100, 0\n",
    "\n",
    "lee, 90, 2\n",
    "\n",
    "park, 85, 1\n",
    "\n",
    "cho, 77, 5\n"
   ]
  },
  {
   "cell_type": "code",
   "execution_count": 64,
   "metadata": {},
   "outputs": [
    {
     "name": "stdout",
     "output_type": "stream",
     "text": [
      "   name   score   absent \n",
      "0   kim      95         3\n",
      "1  choi     100         0\n",
      "2   lee      90         2\n",
      "3  park      85         1\n",
      "4   cho      77         5\n"
     ]
    }
   ],
   "source": [
    "df = pd.read_csv('week3_textfiles/exam1.txt')\n",
    "print(df)"
   ]
  },
  {
   "cell_type": "markdown",
   "metadata": {},
   "source": [
    "### `exam2.txt` 파일 - tab 이 구분기호\n"
   ]
  },
  {
   "cell_type": "markdown",
   "metadata": {},
   "source": [
    "구분기호가 컴마가 아니기에..\n",
    "\n",
    "tab 인 경우 구분기호 명시가 필요하다\n"
   ]
  },
  {
   "cell_type": "markdown",
   "metadata": {},
   "source": [
    "name score absent\n",
    "\n",
    "kim 95 3\n",
    "\n",
    "choi 100 0\n",
    "\n",
    "lee 90 2\n",
    "\n",
    "park 85 1\n",
    "\n",
    "cho 77 5\n"
   ]
  },
  {
   "cell_type": "code",
   "execution_count": 65,
   "metadata": {},
   "outputs": [
    {
     "name": "stdout",
     "output_type": "stream",
     "text": [
      "   name  score  absent \n",
      "0   kim     95        3\n",
      "1  choi    100        0\n",
      "2   lee     90        2\n",
      "3  park     85        1\n",
      "4   cho     77        5\n"
     ]
    }
   ],
   "source": [
    "df = pd.read_csv(\"week3_textfiles/exam2.txt\", delimiter=\"\\t\")\n",
    "print(df)"
   ]
  },
  {
   "cell_type": "markdown",
   "metadata": {},
   "source": [
    "### `exam.txt` 파일 - 머릿글이 없는 경우\n"
   ]
  },
  {
   "cell_type": "markdown",
   "metadata": {},
   "source": [
    "컴마로 구분되어 있으나 `exam1.txt`와는 다르게 머릿글이 없다\n",
    "\n",
    "`header=행번호` 를 활용하자\n",
    "\n",
    "`header`가 없는 경우 첫번째 행을 열 이름으로 자동 부여한다\n",
    "\n",
    "`header=None`으로 첫 행에 열이름이 없음을 표시하자\n"
   ]
  },
  {
   "cell_type": "markdown",
   "metadata": {},
   "source": [
    "kim, 95, 3\n",
    "\n",
    "choi, 100, 0\n",
    "\n",
    "lee, 90, 2\n",
    "\n",
    "park, 85, 1\n",
    "\n",
    "cho, 77, 5\n"
   ]
  },
  {
   "cell_type": "code",
   "execution_count": 66,
   "metadata": {},
   "outputs": [
    {
     "name": "stdout",
     "output_type": "stream",
     "text": [
      "    kim   95   3 \n",
      "0  choi  100    0\n",
      "1   lee   90    2\n",
      "2  park   85    1\n",
      "3   cho   77    5\n"
     ]
    }
   ],
   "source": [
    "df = pd.read_csv(\"week3_textfiles/exam.txt\")\n",
    "print(df)"
   ]
  },
  {
   "cell_type": "code",
   "execution_count": 67,
   "metadata": {},
   "outputs": [
    {
     "name": "stdout",
     "output_type": "stream",
     "text": [
      "      0    1  2\n",
      "0   kim   95  3\n",
      "1  choi  100  0\n",
      "2   lee   90  2\n",
      "3  park   85  1\n",
      "4   cho   77  5\n"
     ]
    }
   ],
   "source": [
    "df = pd.read_csv(\"week3_textfiles/exam.txt\", header=None)\n",
    "print(df)"
   ]
  },
  {
   "cell_type": "code",
   "execution_count": 68,
   "metadata": {},
   "outputs": [
    {
     "name": "stdout",
     "output_type": "stream",
     "text": [
      "   choi   100   0 \n",
      "0   lee    90    2\n",
      "1  park    85    1\n",
      "2   cho    77    5\n"
     ]
    }
   ],
   "source": [
    "df = pd.read_csv(\"week3_textfiles/exam.txt\", header=[1])\n",
    "print(df)"
   ]
  },
  {
   "cell_type": "code",
   "execution_count": 69,
   "metadata": {},
   "outputs": [
    {
     "name": "stdout",
     "output_type": "stream",
     "text": [
      "    kim   95  3 \n",
      "   choi  100  0 \n",
      "0   lee   90   2\n",
      "1  park   85   1\n",
      "2   cho   77   5\n"
     ]
    }
   ],
   "source": [
    "df = pd.read_csv(\"week3_textfiles/exam.txt\", header=[0, 1])\n",
    "print(df)"
   ]
  },
  {
   "cell_type": "markdown",
   "metadata": {},
   "source": [
    "## `exam.txt` 파일 - `skiprows`란?\n",
    "\n",
    "`skiprows=[행번호]`를 활용해보자\n"
   ]
  },
  {
   "cell_type": "code",
   "execution_count": 70,
   "metadata": {},
   "outputs": [
    {
     "name": "stdout",
     "output_type": "stream",
     "text": [
      "   kim   95   3 \n",
      "0  lee   90    2\n",
      "1  cho   77    5\n"
     ]
    }
   ],
   "source": [
    "df = pd.read_csv(\"week3_textfiles/exam.txt\", skiprows=[1, 3])\n",
    "print(df)"
   ]
  },
  {
   "cell_type": "markdown",
   "metadata": {},
   "source": [
    "## `exam4.csv` 파일 - CSV 파일\n"
   ]
  },
  {
   "cell_type": "markdown",
   "metadata": {},
   "source": [
    "CSV 파일은 컴마가 구분기호더라\n",
    "\n",
    "하지만 그냥 불러오던대로 `df = pd.read_csv(\"week3_textfiles/exam4.csv\")` 이러면 오류가 발생\n",
    "\n",
    "CSV 파일을 불러올 때 중간에 인코딩 작업이 추가로 필요하다\n",
    "\n",
    "`encoding=\"인코딩방식` : EUC-KR(2byte 한글 인코딩), cp949(MS Office), utf-8(유니코드 인코딩)\n"
   ]
  },
  {
   "cell_type": "markdown",
   "metadata": {},
   "source": [
    "연도,출생아수,사망자수\n",
    "\n",
    "2011,\"471,265\",\"257,396\"\n",
    "\n",
    "2012,\"484,550\",\"267,221\"\n",
    "\n",
    "2013,\"436,455\",\"266,257\"\n",
    "\n",
    "2014,\"435,435\",\"267,692\"\n",
    "\n",
    "2015,\"438,420\",\"275,895\"\n",
    "\n",
    "2016,\"406,243\",\"280,827\"\n",
    "\n",
    "2017,\"357,771\",\"285,534\"\n",
    "\n",
    "2018,\"326,900\",\"298,820\"\n"
   ]
  },
  {
   "cell_type": "code",
   "execution_count": 71,
   "metadata": {},
   "outputs": [
    {
     "name": "stdout",
     "output_type": "stream",
     "text": [
      "     연도     출생아수     사망자수\n",
      "0  2011  471,265  257,396\n",
      "1  2012  484,550  267,221\n",
      "2  2013  436,455  266,257\n",
      "3  2014  435,435  267,692\n",
      "4  2015  438,420  275,895\n",
      "5  2016  406,243  280,827\n",
      "6  2017  357,771  285,534\n",
      "7  2018  326,900  298,820\n"
     ]
    }
   ],
   "source": [
    "df = pd.read_csv(\"week3_textfiles/exam4.csv\", encoding=\"EUC-KR\")\n",
    "print(df)"
   ]
  },
  {
   "cell_type": "markdown",
   "metadata": {},
   "source": [
    "## `exam4.csv` - `thousands`?\n"
   ]
  },
  {
   "cell_type": "code",
   "execution_count": 72,
   "metadata": {},
   "outputs": [
    {
     "name": "stdout",
     "output_type": "stream",
     "text": [
      "<class 'pandas.core.frame.DataFrame'>\n",
      "RangeIndex: 8 entries, 0 to 7\n",
      "Data columns (total 3 columns):\n",
      " #   Column  Non-Null Count  Dtype \n",
      "---  ------  --------------  ----- \n",
      " 0   연도      8 non-null      int64 \n",
      " 1   출생아수    8 non-null      object\n",
      " 2   사망자수    8 non-null      object\n",
      "dtypes: int64(1), object(2)\n",
      "memory usage: 324.0+ bytes\n",
      "None\n"
     ]
    }
   ],
   "source": [
    "print(df.info())"
   ]
  },
  {
   "cell_type": "markdown",
   "metadata": {},
   "source": [
    "`df.info()` 를 해보니..\n",
    "\n",
    "object 라고 나온다는 건 문자라는 것.. 숫자로 바꾸기 위해서 `thousands`를 활용해보자\n"
   ]
  },
  {
   "cell_type": "code",
   "execution_count": 73,
   "metadata": {},
   "outputs": [
    {
     "name": "stdout",
     "output_type": "stream",
     "text": [
      "<class 'pandas.core.frame.DataFrame'>\n",
      "RangeIndex: 8 entries, 0 to 7\n",
      "Data columns (total 3 columns):\n",
      " #   Column  Non-Null Count  Dtype\n",
      "---  ------  --------------  -----\n",
      " 0   연도      8 non-null      int64\n",
      " 1   출생아수    8 non-null      int64\n",
      " 2   사망자수    8 non-null      int64\n",
      "dtypes: int64(3)\n",
      "memory usage: 324.0 bytes\n",
      "None\n"
     ]
    }
   ],
   "source": [
    "df = pd.read_csv(\"week3_textfiles/exam4.csv\", encoding=\"EUC-KR\", thousands=\",\")\n",
    "print(df.info())"
   ]
  },
  {
   "cell_type": "markdown",
   "metadata": {},
   "source": [
    "# 3-3. 판다스로 엑셀 파일 불러보기\n"
   ]
  },
  {
   "cell_type": "markdown",
   "metadata": {},
   "source": [
    "외부 파일을 불러올 때..\n",
    "\n",
    "txt 파일은 구분기호를 추가해야 하고\n",
    "\n",
    "csv 파일은 인코딩을 추가로 해줘야 했으나\n",
    "\n",
    "엑셀파일은 그런게 필요 없다 !\n"
   ]
  },
  {
   "cell_type": "markdown",
   "metadata": {},
   "source": [
    ".. `pip install openpyxl` 추가로 필요 .. 왜? 나는 아나콘다 설치했는데\n"
   ]
  },
  {
   "cell_type": "code",
   "execution_count": 74,
   "metadata": {},
   "outputs": [
    {
     "name": "stdout",
     "output_type": "stream",
     "text": [
      "      연도    출생아수  천명당출생률\n",
      "0   1951  728175    37.7\n",
      "1   1952  775630    39.6\n",
      "2   1953  830330    41.6\n",
      "3   1954  892236    43.4\n",
      "4   1955  961055    45.4\n",
      "..   ...     ...     ...\n",
      "63  2014  435435     8.6\n",
      "64  2015  438420     8.6\n",
      "65  2016  406243     7.9\n",
      "66  2017  357771     7.0\n",
      "67  2018  326900     6.4\n",
      "\n",
      "[68 rows x 3 columns]\n"
     ]
    }
   ],
   "source": [
    "birthData = pd.read_excel(\"week3_textfiles/data_birth.xlsx\")\n",
    "print(birthData)"
   ]
  },
  {
   "cell_type": "markdown",
   "metadata": {},
   "source": [
    "레코드와 컬럼 수가 하단에 나오고.. 데이터가 길어서 점으로 표시된다\n",
    "\n",
    "일부분을 보고 싶다면 슬라이싱하거나 함수를 활용하자\n"
   ]
  },
  {
   "cell_type": "markdown",
   "metadata": {},
   "source": [
    "## 함수 - 데이터 보기\n"
   ]
  },
  {
   "cell_type": "markdown",
   "metadata": {},
   "source": [
    "### `head()` 와 `tail()`\n"
   ]
  },
  {
   "cell_type": "markdown",
   "metadata": {},
   "source": [
    "앞 / 뒤에서 적은 수 만큼의 레코드를 표시해준다\n"
   ]
  },
  {
   "cell_type": "code",
   "execution_count": 75,
   "metadata": {},
   "outputs": [
    {
     "name": "stdout",
     "output_type": "stream",
     "text": [
      "     연도    출생아수  천명당출생률\n",
      "0  1951  728175    37.7\n",
      "1  1952  775630    39.6\n",
      "2  1953  830330    41.6\n",
      "3  1954  892236    43.4\n",
      "4  1955  961055    45.4\n"
     ]
    }
   ],
   "source": [
    "print(birthData.head(5))"
   ]
  },
  {
   "cell_type": "code",
   "execution_count": 76,
   "metadata": {},
   "outputs": [
    {
     "name": "stdout",
     "output_type": "stream",
     "text": [
      "      연도    출생아수  천명당출생률\n",
      "65  2016  406243     7.9\n",
      "66  2017  357771     7.0\n",
      "67  2018  326900     6.4\n"
     ]
    }
   ],
   "source": [
    "print(birthData.tail(3))"
   ]
  },
  {
   "cell_type": "markdown",
   "metadata": {},
   "source": [
    "### `info()` 함수로 데이터 파악하기\n"
   ]
  },
  {
   "cell_type": "code",
   "execution_count": 77,
   "metadata": {},
   "outputs": [
    {
     "name": "stdout",
     "output_type": "stream",
     "text": [
      "<class 'pandas.core.frame.DataFrame'>\n",
      "RangeIndex: 68 entries, 0 to 67\n",
      "Data columns (total 3 columns):\n",
      " #   Column  Non-Null Count  Dtype  \n",
      "---  ------  --------------  -----  \n",
      " 0   연도      68 non-null     int64  \n",
      " 1   출생아수    68 non-null     int64  \n",
      " 2   천명당출생률  68 non-null     float64\n",
      "dtypes: float64(1), int64(2)\n",
      "memory usage: 1.7 KB\n",
      "None\n"
     ]
    }
   ],
   "source": [
    "print(birthData.info())"
   ]
  },
  {
   "cell_type": "markdown",
   "metadata": {},
   "source": [
    "### `describe()` 함수로 데이터 파악하기\n"
   ]
  },
  {
   "cell_type": "markdown",
   "metadata": {},
   "source": [
    "숫자로 되어있는 콜럼들만 가져와서 여러 값들을 추출\n"
   ]
  },
  {
   "cell_type": "code",
   "execution_count": 78,
   "metadata": {},
   "outputs": [
    {
     "name": "stdout",
     "output_type": "stream",
     "text": [
      "               연도          출생아수     천명당출생률\n",
      "count    68.00000  6.800000e+01  68.000000\n",
      "mean   1984.50000  7.451443e+05  22.483824\n",
      "std      19.77372  2.271235e+05  12.619395\n",
      "min    1951.00000  3.269000e+05   6.400000\n",
      "25%    1967.75000  5.394685e+05  11.250000\n",
      "50%    1984.50000  7.246800e+05  16.700000\n",
      "75%    2001.25000  9.621715e+05  33.225000\n",
      "max    2018.00000  1.099294e+06  45.400000\n"
     ]
    }
   ],
   "source": [
    "print(birthData.describe())"
   ]
  },
  {
   "cell_type": "markdown",
   "metadata": {},
   "source": [
    "### 함수를 활용해보자\n"
   ]
  },
  {
   "cell_type": "code",
   "execution_count": 79,
   "metadata": {},
   "outputs": [
    {
     "name": "stdout",
     "output_type": "stream",
     "text": [
      "<class 'pandas.core.frame.DataFrame'>\n",
      "RangeIndex: 3 entries, 0 to 2\n",
      "Data columns (total 3 columns):\n",
      " #   Column  Non-Null Count  Dtype  \n",
      "---  ------  --------------  -----  \n",
      " 0   연도      3 non-null      int64  \n",
      " 1   출생아수    3 non-null      int64  \n",
      " 2   천명당출생률  3 non-null      float64\n",
      "dtypes: float64(1), int64(2)\n",
      "memory usage: 204.0 bytes\n",
      "None\n"
     ]
    }
   ],
   "source": [
    "print(birthData.head(3).info())"
   ]
  },
  {
   "cell_type": "code",
   "execution_count": 80,
   "metadata": {},
   "outputs": [
    {
     "name": "stdout",
     "output_type": "stream",
     "text": [
      "           연도          출생아수    천명당출생률\n",
      "count     3.0       3.00000  3.000000\n",
      "mean   2017.0  363638.00000  7.100000\n",
      "std       1.0   39995.55199  0.754983\n",
      "min    2016.0  326900.00000  6.400000\n",
      "25%    2016.5  342335.50000  6.700000\n",
      "50%    2017.0  357771.00000  7.000000\n",
      "75%    2017.5  382007.00000  7.450000\n",
      "max    2018.0  406243.00000  7.900000\n"
     ]
    }
   ],
   "source": [
    "print(birthData.tail(3).describe())"
   ]
  },
  {
   "cell_type": "markdown",
   "metadata": {},
   "source": [
    "## 특정 레코드 선택하기\n"
   ]
  },
  {
   "cell_type": "markdown",
   "metadata": {},
   "source": [
    "### 인덱스를 활용한 슬라이싱 방식\n"
   ]
  },
  {
   "cell_type": "markdown",
   "metadata": {},
   "source": [
    "리스트에서 특정 요소를 슬라이싱 하는 방식과 동일하다\n"
   ]
  },
  {
   "cell_type": "code",
   "execution_count": 81,
   "metadata": {},
   "outputs": [
    {
     "name": "stdout",
     "output_type": "stream",
     "text": [
      "     연도    출생아수  천명당출생률\n",
      "0  1951  728175    37.7\n",
      "1  1952  775630    39.6\n",
      "2  1953  830330    41.6\n"
     ]
    }
   ],
   "source": [
    "print(birthData[0:3])"
   ]
  },
  {
   "cell_type": "code",
   "execution_count": 82,
   "metadata": {},
   "outputs": [
    {
     "name": "stdout",
     "output_type": "stream",
     "text": [
      "      연도    출생아수  천명당출생률\n",
      "65  2016  406243     7.9\n",
      "66  2017  357771     7.0\n",
      "67  2018  326900     6.4\n"
     ]
    }
   ],
   "source": [
    "print(birthData[65:])"
   ]
  },
  {
   "cell_type": "markdown",
   "metadata": {},
   "source": [
    "### 특정 칼럼(열) 선택하기\n"
   ]
  },
  {
   "cell_type": "markdown",
   "metadata": {},
   "source": [
    "#### 방식1: `birthDate.연도` / `birthDate.출생아수`\n"
   ]
  },
  {
   "cell_type": "code",
   "execution_count": 83,
   "metadata": {},
   "outputs": [
    {
     "name": "stdout",
     "output_type": "stream",
     "text": [
      "0     1951\n",
      "1     1952\n",
      "2     1953\n",
      "3     1954\n",
      "4     1955\n",
      "      ... \n",
      "63    2014\n",
      "64    2015\n",
      "65    2016\n",
      "66    2017\n",
      "67    2018\n",
      "Name: 연도, Length: 68, dtype: int64\n"
     ]
    }
   ],
   "source": [
    "print(birthData.연도)"
   ]
  },
  {
   "cell_type": "markdown",
   "metadata": {},
   "source": [
    "#### 방식2: `birthDate[\"연도\"]` / `birthDate[\"천명당출생률\"]`\n"
   ]
  },
  {
   "cell_type": "code",
   "execution_count": 84,
   "metadata": {},
   "outputs": [
    {
     "name": "stdout",
     "output_type": "stream",
     "text": [
      "0     37.7\n",
      "1     39.6\n",
      "2     41.6\n",
      "3     43.4\n",
      "4     45.4\n",
      "      ... \n",
      "63     8.6\n",
      "64     8.6\n",
      "65     7.9\n",
      "66     7.0\n",
      "67     6.4\n",
      "Name: 천명당출생률, Length: 68, dtype: float64\n"
     ]
    }
   ],
   "source": [
    "print(birthData[\"천명당출생률\"])"
   ]
  },
  {
   "cell_type": "markdown",
   "metadata": {},
   "source": [
    "### 동시에 활용해보자\n"
   ]
  },
  {
   "cell_type": "code",
   "execution_count": 85,
   "metadata": {},
   "outputs": [
    {
     "name": "stdout",
     "output_type": "stream",
     "text": [
      "0    728175\n",
      "1    775630\n",
      "2    830330\n",
      "3    892236\n",
      "4    961055\n",
      "Name: 출생아수, dtype: int64\n"
     ]
    }
   ],
   "source": [
    "print(birthData.출생아수[0:5])"
   ]
  },
  {
   "cell_type": "code",
   "execution_count": 86,
   "metadata": {},
   "outputs": [
    {
     "name": "stdout",
     "output_type": "stream",
     "text": [
      "64    2015\n",
      "65    2016\n",
      "66    2017\n",
      "67    2018\n",
      "Name: 연도, dtype: int64\n"
     ]
    }
   ],
   "source": [
    "print(birthData[\"연도\"][64:])"
   ]
  },
  {
   "cell_type": "markdown",
   "metadata": {},
   "source": [
    "### 여러 개의 칼럼 (열 선택하기)\n"
   ]
  },
  {
   "cell_type": "markdown",
   "metadata": {},
   "source": [
    "대괄호를 한번 더 씌워주자\n"
   ]
  },
  {
   "cell_type": "code",
   "execution_count": 87,
   "metadata": {},
   "outputs": [
    {
     "name": "stdout",
     "output_type": "stream",
     "text": [
      "     연도    출생아수\n",
      "0  1951  728175\n",
      "1  1952  775630\n",
      "2  1953  830330\n",
      "3  1954  892236\n",
      "4  1955  961055\n"
     ]
    }
   ],
   "source": [
    "print(birthData[[\"연도\", \"출생아수\"]][0:5])"
   ]
  },
  {
   "cell_type": "code",
   "execution_count": 88,
   "metadata": {},
   "outputs": [
    {
     "name": "stdout",
     "output_type": "stream",
     "text": [
      "      연도    출생아수\n",
      "29  1980  862835\n",
      "30  1981  867409\n",
      "31  1982  848312\n",
      "32  1983  769155\n",
      "33  1984  674793\n",
      "34  1985  655489\n",
      "35  1986  636019\n",
      "36  1987  623831\n",
      "37  1988  633092\n",
      "38  1989  639431\n"
     ]
    }
   ],
   "source": [
    "# 80년대 데이터를 가져와보자\n",
    "print(birthData[[\"연도\", \"출생아수\"]][29:39])"
   ]
  },
  {
   "cell_type": "markdown",
   "metadata": {},
   "source": [
    "### query 질의 함수 활용하기\n"
   ]
  },
  {
   "cell_type": "code",
   "execution_count": 89,
   "metadata": {},
   "outputs": [
    {
     "data": {
      "text/html": [
       "<div>\n",
       "<style scoped>\n",
       "    .dataframe tbody tr th:only-of-type {\n",
       "        vertical-align: middle;\n",
       "    }\n",
       "\n",
       "    .dataframe tbody tr th {\n",
       "        vertical-align: top;\n",
       "    }\n",
       "\n",
       "    .dataframe thead th {\n",
       "        text-align: right;\n",
       "    }\n",
       "</style>\n",
       "<table border=\"1\" class=\"dataframe\">\n",
       "  <thead>\n",
       "    <tr style=\"text-align: right;\">\n",
       "      <th></th>\n",
       "      <th>연도</th>\n",
       "      <th>출생아수</th>\n",
       "      <th>천명당출생률</th>\n",
       "    </tr>\n",
       "  </thead>\n",
       "  <tbody>\n",
       "    <tr>\n",
       "      <th>39</th>\n",
       "      <td>1990</td>\n",
       "      <td>649738</td>\n",
       "      <td>15.2</td>\n",
       "    </tr>\n",
       "    <tr>\n",
       "      <th>40</th>\n",
       "      <td>1991</td>\n",
       "      <td>709275</td>\n",
       "      <td>16.4</td>\n",
       "    </tr>\n",
       "    <tr>\n",
       "      <th>41</th>\n",
       "      <td>1992</td>\n",
       "      <td>730678</td>\n",
       "      <td>16.7</td>\n",
       "    </tr>\n",
       "    <tr>\n",
       "      <th>42</th>\n",
       "      <td>1993</td>\n",
       "      <td>715826</td>\n",
       "      <td>16.0</td>\n",
       "    </tr>\n",
       "    <tr>\n",
       "      <th>43</th>\n",
       "      <td>1994</td>\n",
       "      <td>721185</td>\n",
       "      <td>16.0</td>\n",
       "    </tr>\n",
       "    <tr>\n",
       "      <th>44</th>\n",
       "      <td>1995</td>\n",
       "      <td>715020</td>\n",
       "      <td>15.7</td>\n",
       "    </tr>\n",
       "    <tr>\n",
       "      <th>45</th>\n",
       "      <td>1996</td>\n",
       "      <td>691226</td>\n",
       "      <td>15.0</td>\n",
       "    </tr>\n",
       "    <tr>\n",
       "      <th>46</th>\n",
       "      <td>1997</td>\n",
       "      <td>668344</td>\n",
       "      <td>14.4</td>\n",
       "    </tr>\n",
       "    <tr>\n",
       "      <th>47</th>\n",
       "      <td>1998</td>\n",
       "      <td>634790</td>\n",
       "      <td>13.6</td>\n",
       "    </tr>\n",
       "    <tr>\n",
       "      <th>48</th>\n",
       "      <td>1999</td>\n",
       "      <td>614233</td>\n",
       "      <td>13.0</td>\n",
       "    </tr>\n",
       "    <tr>\n",
       "      <th>49</th>\n",
       "      <td>2000</td>\n",
       "      <td>634501</td>\n",
       "      <td>13.3</td>\n",
       "    </tr>\n",
       "  </tbody>\n",
       "</table>\n",
       "</div>"
      ],
      "text/plain": [
       "      연도    출생아수  천명당출생률\n",
       "39  1990  649738    15.2\n",
       "40  1991  709275    16.4\n",
       "41  1992  730678    16.7\n",
       "42  1993  715826    16.0\n",
       "43  1994  721185    16.0\n",
       "44  1995  715020    15.7\n",
       "45  1996  691226    15.0\n",
       "46  1997  668344    14.4\n",
       "47  1998  634790    13.6\n",
       "48  1999  614233    13.0\n",
       "49  2000  634501    13.3"
      ]
     },
     "execution_count": 89,
     "metadata": {},
     "output_type": "execute_result"
    }
   ],
   "source": [
    "# 1990 부터 2000 까지의 데이터\n",
    "birthData.query(\"1990 <= 연도 <= 2000\")"
   ]
  },
  {
   "cell_type": "markdown",
   "metadata": {},
   "source": [
    "#### 여러개의 조건을 만족하게 하자\n"
   ]
  },
  {
   "cell_type": "code",
   "execution_count": 90,
   "metadata": {},
   "outputs": [
    {
     "data": {
      "text/html": [
       "<div>\n",
       "<style scoped>\n",
       "    .dataframe tbody tr th:only-of-type {\n",
       "        vertical-align: middle;\n",
       "    }\n",
       "\n",
       "    .dataframe tbody tr th {\n",
       "        vertical-align: top;\n",
       "    }\n",
       "\n",
       "    .dataframe thead th {\n",
       "        text-align: right;\n",
       "    }\n",
       "</style>\n",
       "<table border=\"1\" class=\"dataframe\">\n",
       "  <thead>\n",
       "    <tr style=\"text-align: right;\">\n",
       "      <th></th>\n",
       "      <th>연도</th>\n",
       "      <th>출생아수</th>\n",
       "      <th>천명당출생률</th>\n",
       "    </tr>\n",
       "  </thead>\n",
       "  <tbody>\n",
       "    <tr>\n",
       "      <th>49</th>\n",
       "      <td>2000</td>\n",
       "      <td>634501</td>\n",
       "      <td>13.3</td>\n",
       "    </tr>\n",
       "    <tr>\n",
       "      <th>50</th>\n",
       "      <td>2001</td>\n",
       "      <td>554895</td>\n",
       "      <td>11.6</td>\n",
       "    </tr>\n",
       "  </tbody>\n",
       "</table>\n",
       "</div>"
      ],
      "text/plain": [
       "      연도    출생아수  천명당출생률\n",
       "49  2000  634501    13.3\n",
       "50  2001  554895    11.6"
      ]
     },
     "execution_count": 90,
     "metadata": {},
     "output_type": "execute_result"
    }
   ],
   "source": [
    "birthData.query(\"연도>=2000 and 출생아수>=500000\")"
   ]
  },
  {
   "cell_type": "code",
   "execution_count": null,
   "metadata": {},
   "outputs": [],
   "source": []
  }
 ],
 "metadata": {
  "kernelspec": {
   "display_name": "aidata",
   "language": "python",
   "name": "aidata"
  },
  "language_info": {
   "codemirror_mode": {
    "name": "ipython",
    "version": 3
   },
   "file_extension": ".py",
   "mimetype": "text/x-python",
   "name": "python",
   "nbconvert_exporter": "python",
   "pygments_lexer": "ipython3",
   "version": "3.12.4"
  }
 },
 "nbformat": 4,
 "nbformat_minor": 2
}
