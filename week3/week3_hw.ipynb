{
 "cells": [
  {
   "cell_type": "markdown",
   "metadata": {},
   "source": [
    "# 과제\n"
   ]
  },
  {
   "cell_type": "code",
   "execution_count": 26,
   "metadata": {},
   "outputs": [],
   "source": [
    "import pandas as pd"
   ]
  },
  {
   "cell_type": "markdown",
   "metadata": {},
   "source": [
    "## 1번\n"
   ]
  },
  {
   "cell_type": "code",
   "execution_count": 27,
   "metadata": {},
   "outputs": [
    {
     "name": "stdout",
     "output_type": "stream",
     "text": [
      "      0   1    2\n",
      "0    이름  나이   주소\n",
      "1   Kim  20  서울시\n",
      "2   Lee  25  경기도\n",
      "3  Park  22  제주도\n",
      "4  Choi  19  강원도\n"
     ]
    }
   ],
   "source": [
    "stdData = [\n",
    "    [\"이름\", \"나이\", \"주소\"],\n",
    "    [\"Kim\", 20, \"서울시\"],\n",
    "    [\"Lee\", 25, \"경기도\"],\n",
    "    [\"Park\", 22, \"제주도\"],\n",
    "    [\"Choi\", 19, \"강원도\"]\n",
    "]\n",
    "df1 = pd.DataFrame(stdData)\n",
    "print(df1)"
   ]
  },
  {
   "cell_type": "markdown",
   "metadata": {},
   "source": [
    "## 2번\n"
   ]
  },
  {
   "cell_type": "code",
   "execution_count": 28,
   "metadata": {},
   "outputs": [
    {
     "name": "stdout",
     "output_type": "stream",
     "text": [
      "   name   score   absent \n",
      "0   kim      95         3\n",
      "1  choi     100         0\n",
      "2   lee      90         2\n",
      "3  park      85         1\n",
      "4   cho      77         5\n"
     ]
    }
   ],
   "source": [
    "df2 = pd.read_csv(\"week3_hw_textfiles/exam1.txt\")\n",
    "print(df2)"
   ]
  },
  {
   "cell_type": "markdown",
   "metadata": {},
   "source": [
    "## 3번\n"
   ]
  },
  {
   "cell_type": "code",
   "execution_count": 29,
   "metadata": {},
   "outputs": [
    {
     "name": "stdout",
     "output_type": "stream",
     "text": [
      "   name  score  absent \n",
      "0   kim     95        3\n",
      "1  choi    100        0\n",
      "2   lee     90        2\n",
      "3  park     85        1\n",
      "4   cho     77        5\n"
     ]
    }
   ],
   "source": [
    "df3 = pd.read_csv(\"week3_hw_textfiles/exam2.txt\", delimiter=\"\\t\")\n",
    "print(df3)"
   ]
  },
  {
   "cell_type": "markdown",
   "metadata": {},
   "source": [
    "## 4번\n"
   ]
  },
  {
   "cell_type": "code",
   "execution_count": 30,
   "metadata": {},
   "outputs": [
    {
     "name": "stdout",
     "output_type": "stream",
     "text": [
      "     연도     출생아수     사망자수\n",
      "0  2011  471,265  257,396\n",
      "1  2012  484,550  267,221\n",
      "2  2013  436,455  266,257\n",
      "3  2014  435,435  267,692\n",
      "4  2015  438,420  275,895\n",
      "5  2016  406,243  280,827\n",
      "6  2017  357,771  285,534\n",
      "7  2018  326,900  298,820\n"
     ]
    }
   ],
   "source": [
    "df4 = pd.read_csv(\"week3_hw_textfiles/exam3.csv\", encoding=\"EUC-KR\")\n",
    "print(df4)"
   ]
  },
  {
   "cell_type": "markdown",
   "metadata": {},
   "source": [
    "## 5번\n"
   ]
  },
  {
   "cell_type": "code",
   "execution_count": 31,
   "metadata": {},
   "outputs": [
    {
     "name": "stdout",
     "output_type": "stream",
     "text": [
      "      연도    출생아수  천명당출생률\n",
      "0   1951  728175    37.7\n",
      "1   1952  775630    39.6\n",
      "2   1953  830330    41.6\n",
      "3   1954  892236    43.4\n",
      "4   1955  961055    45.4\n",
      "..   ...     ...     ...\n",
      "63  2014  435435     8.6\n",
      "64  2015  438420     8.6\n",
      "65  2016  406243     7.9\n",
      "66  2017  357771     7.0\n",
      "67  2018  326900     6.4\n",
      "\n",
      "[68 rows x 3 columns]\n"
     ]
    }
   ],
   "source": [
    "df5 = pd.read_excel(\"week3_hw_textfiles/data_연도별출생인구.xlsx\")\n",
    "print(df5)"
   ]
  },
  {
   "cell_type": "markdown",
   "metadata": {},
   "source": [
    "# 6번\n"
   ]
  },
  {
   "cell_type": "code",
   "execution_count": 32,
   "metadata": {},
   "outputs": [],
   "source": [
    "df6 = pd.read_excel(\"week3_hw_textfiles/data_연도별출생인구.xlsx\")"
   ]
  },
  {
   "cell_type": "code",
   "execution_count": 33,
   "metadata": {},
   "outputs": [
    {
     "name": "stdout",
     "output_type": "stream",
     "text": [
      "     연도     출생아수  천명당출생률\n",
      "0  1951   728175    37.7\n",
      "1  1952   775630    39.6\n",
      "2  1953   830330    41.6\n",
      "3  1954   892236    43.4\n",
      "4  1955   961055    45.4\n",
      "5  1956   999005    45.2\n",
      "6  1957  1016573    44.8\n",
      "7  1958  1046011    44.5\n",
      "8  1959  1074876    44.2\n",
      "9  1960  1099294    44.0\n"
     ]
    }
   ],
   "source": [
    "print(df6.head(10))"
   ]
  },
  {
   "cell_type": "code",
   "execution_count": 34,
   "metadata": {},
   "outputs": [
    {
     "name": "stdout",
     "output_type": "stream",
     "text": [
      "      연도    출생아수  천명당출생률\n",
      "58  2009  444849     9.0\n",
      "59  2010  470171     9.4\n",
      "60  2011  471265     9.4\n",
      "61  2012  484550     9.6\n",
      "62  2013  436455     8.6\n",
      "63  2014  435435     8.6\n",
      "64  2015  438420     8.6\n",
      "65  2016  406243     7.9\n",
      "66  2017  357771     7.0\n",
      "67  2018  326900     6.4\n"
     ]
    }
   ],
   "source": [
    "print(df6.tail(10))"
   ]
  },
  {
   "cell_type": "markdown",
   "metadata": {},
   "source": [
    "## 7번\n"
   ]
  },
  {
   "cell_type": "code",
   "execution_count": 35,
   "metadata": {},
   "outputs": [
    {
     "name": "stdout",
     "output_type": "stream",
     "text": [
      "<class 'pandas.core.frame.DataFrame'>\n",
      "RangeIndex: 68 entries, 0 to 67\n",
      "Data columns (total 3 columns):\n",
      " #   Column  Non-Null Count  Dtype  \n",
      "---  ------  --------------  -----  \n",
      " 0   연도      68 non-null     int64  \n",
      " 1   출생아수    68 non-null     int64  \n",
      " 2   천명당출생률  68 non-null     float64\n",
      "dtypes: float64(1), int64(2)\n",
      "memory usage: 1.7 KB\n",
      "None\n"
     ]
    }
   ],
   "source": [
    "df7 = pd.read_excel(\"week3_hw_textfiles/data_연도별출생인구.xlsx\")\n",
    "print(df7.info())"
   ]
  },
  {
   "cell_type": "markdown",
   "metadata": {},
   "source": [
    "## 8번\n"
   ]
  },
  {
   "cell_type": "code",
   "execution_count": 36,
   "metadata": {},
   "outputs": [
    {
     "name": "stdout",
     "output_type": "stream",
     "text": [
      "               연도          출생아수     천명당출생률\n",
      "count    68.00000  6.800000e+01  68.000000\n",
      "mean   1984.50000  7.451443e+05  22.483824\n",
      "std      19.77372  2.271235e+05  12.619395\n",
      "min    1951.00000  3.269000e+05   6.400000\n",
      "25%    1967.75000  5.394685e+05  11.250000\n",
      "50%    1984.50000  7.246800e+05  16.700000\n",
      "75%    2001.25000  9.621715e+05  33.225000\n",
      "max    2018.00000  1.099294e+06  45.400000\n"
     ]
    }
   ],
   "source": [
    "df8 = pd.read_excel(\"week3_hw_textfiles/data_연도별출생인구.xlsx\")\n",
    "print(df8.describe())"
   ]
  },
  {
   "cell_type": "markdown",
   "metadata": {},
   "source": [
    "## 9번\n"
   ]
  },
  {
   "cell_type": "code",
   "execution_count": 37,
   "metadata": {},
   "outputs": [
    {
     "name": "stdout",
     "output_type": "stream",
     "text": [
      "      연도    출생아수\n",
      "59  2010  470171\n",
      "60  2011  471265\n",
      "61  2012  484550\n",
      "62  2013  436455\n",
      "63  2014  435435\n",
      "64  2015  438420\n",
      "65  2016  406243\n",
      "66  2017  357771\n",
      "67  2018  326900\n"
     ]
    }
   ],
   "source": [
    "df9 = pd.read_excel(\"week3_hw_textfiles/data_연도별출생인구.xlsx\")\n",
    "print(df9[[\"연도\", \"출생아수\"]][59:68])"
   ]
  },
  {
   "cell_type": "markdown",
   "metadata": {},
   "source": [
    "## 10번\n"
   ]
  },
  {
   "cell_type": "code",
   "execution_count": 38,
   "metadata": {},
   "outputs": [
    {
     "name": "stdout",
     "output_type": "stream",
     "text": [
      "      연도    출생아수  천명당출생률\n",
      "59  2010  470171     9.4\n",
      "60  2011  471265     9.4\n",
      "61  2012  484550     9.6\n",
      "62  2013  436455     8.6\n",
      "63  2014  435435     8.6\n",
      "64  2015  438420     8.6\n",
      "65  2016  406243     7.9\n",
      "66  2017  357771     7.0\n",
      "67  2018  326900     6.4\n"
     ]
    }
   ],
   "source": [
    "df10 = pd.read_excel(\"week3_hw_textfiles/data_연도별출생인구.xlsx\")\n",
    "print(df10.query(\"연도>=2010\"))"
   ]
  },
  {
   "cell_type": "code",
   "execution_count": null,
   "metadata": {},
   "outputs": [],
   "source": []
  }
 ],
 "metadata": {
  "kernelspec": {
   "display_name": "aidata",
   "language": "python",
   "name": "aidata"
  },
  "language_info": {
   "codemirror_mode": {
    "name": "ipython",
    "version": 3
   },
   "file_extension": ".py",
   "mimetype": "text/x-python",
   "name": "python",
   "nbconvert_exporter": "python",
   "pygments_lexer": "ipython3",
   "version": "3.12.4"
  }
 },
 "nbformat": 4,
 "nbformat_minor": 2
}
