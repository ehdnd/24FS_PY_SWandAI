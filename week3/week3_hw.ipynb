{
 "cells": [
  {
   "cell_type": "markdown",
   "metadata": {},
   "source": [
    "# 과제\n"
   ]
  },
  {
   "cell_type": "code",
   "execution_count": 12,
   "metadata": {},
   "outputs": [],
   "source": [
    "import pandas as pd"
   ]
  },
  {
   "cell_type": "markdown",
   "metadata": {},
   "source": [
    "## 1번\n"
   ]
  },
  {
   "cell_type": "code",
   "execution_count": 13,
   "metadata": {},
   "outputs": [
    {
     "name": "stdout",
     "output_type": "stream",
     "text": [
      "      0   1    2\n",
      "0    이름  나이   주소\n",
      "1   Kim  20  서울시\n",
      "2   Lee  25  경기도\n",
      "3  Park  22  제주도\n",
      "4  Choi  19  강원도\n"
     ]
    }
   ],
   "source": [
    "stdData = [\n",
    "    [\"이름\", \"나이\", \"주소\"],\n",
    "    [\"Kim\", 20, \"서울시\"],\n",
    "    [\"Lee\", 25, \"경기도\"],\n",
    "    [\"Park\", 22, \"제주도\"],\n",
    "    [\"Choi\", 19, \"강원도\"],\n",
    "]\n",
    "df1 = pd.DataFrame(stdData)\n",
    "print(df1)"
   ]
  },
  {
   "cell_type": "markdown",
   "metadata": {},
   "source": [
    "## 2번\n"
   ]
  },
  {
   "cell_type": "code",
   "execution_count": 14,
   "metadata": {},
   "outputs": [
    {
     "name": "stdout",
     "output_type": "stream",
     "text": [
      "   name   score   absent \n",
      "0   kim      95         3\n",
      "1  choi     100         0\n",
      "2   lee      90         2\n",
      "3  park      85         1\n",
      "4   cho      77         5\n"
     ]
    }
   ],
   "source": [
    "df2 = pd.read_csv(\"./exam1.txt\")\n",
    "print(df2)"
   ]
  },
  {
   "cell_type": "markdown",
   "metadata": {},
   "source": [
    "## 3번\n"
   ]
  },
  {
   "cell_type": "code",
   "execution_count": 16,
   "metadata": {},
   "outputs": [
    {
     "name": "stdout",
     "output_type": "stream",
     "text": [
      "   name  score  absent \n",
      "0   kim     95        3\n",
      "1  choi    100        0\n",
      "2   lee     90        2\n",
      "3  park     85        1\n",
      "4   cho     77        5\n"
     ]
    }
   ],
   "source": [
    "df3 = pd.read_csv(\"./exam2.txt\", delimiter=\"\\t\")\n",
    "print(df3)"
   ]
  },
  {
   "cell_type": "markdown",
   "metadata": {},
   "source": [
    "## 4번\n"
   ]
  },
  {
   "cell_type": "code",
   "execution_count": null,
   "metadata": {},
   "outputs": [],
   "source": [
    "df4 = pd.read_csv(\"week3_hw_textfiles/exam3.csv\", encoding=\"EUC-KR\")\n",
    "print(df4)"
   ]
  },
  {
   "cell_type": "markdown",
   "metadata": {},
   "source": [
    "## 5번\n"
   ]
  },
  {
   "cell_type": "code",
   "execution_count": null,
   "metadata": {},
   "outputs": [],
   "source": [
    "df5 = pd.read_excel(\"week3_hw_textfiles/data_연도별출생인구.xlsx\")\n",
    "print(df5)"
   ]
  },
  {
   "cell_type": "markdown",
   "metadata": {},
   "source": [
    "# 6번\n"
   ]
  },
  {
   "cell_type": "code",
   "execution_count": 32,
   "metadata": {},
   "outputs": [],
   "source": [
    "df6 = pd.read_excel(\"week3_hw_textfiles/data_연도별출생인구.xlsx\")"
   ]
  },
  {
   "cell_type": "code",
   "execution_count": null,
   "metadata": {},
   "outputs": [],
   "source": [
    "print(df6.head(10))"
   ]
  },
  {
   "cell_type": "code",
   "execution_count": null,
   "metadata": {},
   "outputs": [],
   "source": [
    "print(df6.tail(10))"
   ]
  },
  {
   "cell_type": "markdown",
   "metadata": {},
   "source": [
    "## 7번\n"
   ]
  },
  {
   "cell_type": "code",
   "execution_count": null,
   "metadata": {},
   "outputs": [],
   "source": [
    "df7 = pd.read_excel(\"week3_hw_textfiles/data_연도별출생인구.xlsx\")\n",
    "print(df7.info())"
   ]
  },
  {
   "cell_type": "markdown",
   "metadata": {},
   "source": [
    "## 8번\n"
   ]
  },
  {
   "cell_type": "code",
   "execution_count": null,
   "metadata": {},
   "outputs": [],
   "source": [
    "df8 = pd.read_excel(\"week3_hw_textfiles/data_연도별출생인구.xlsx\")\n",
    "print(df8.describe())"
   ]
  },
  {
   "cell_type": "markdown",
   "metadata": {},
   "source": [
    "## 9번\n"
   ]
  },
  {
   "cell_type": "code",
   "execution_count": null,
   "metadata": {},
   "outputs": [],
   "source": [
    "df9 = pd.read_excel(\"week3_hw_textfiles/data_연도별출생인구.xlsx\")\n",
    "print(df9[[\"연도\", \"출생아수\"]][59:68])"
   ]
  },
  {
   "cell_type": "markdown",
   "metadata": {},
   "source": [
    "## 10번\n"
   ]
  },
  {
   "cell_type": "code",
   "execution_count": 25,
   "metadata": {},
   "outputs": [
    {
     "name": "stdout",
     "output_type": "stream",
     "text": [
      "      연도    출생아수  천명당출생률\n",
      "59  2010  470171     9.4\n",
      "60  2011  471265     9.4\n",
      "61  2012  484550     9.6\n",
      "62  2013  436455     8.6\n",
      "63  2014  435435     8.6\n",
      "64  2015  438420     8.6\n",
      "65  2016  406243     7.9\n",
      "66  2017  357771     7.0\n",
      "67  2018  326900     6.4\n"
     ]
    }
   ],
   "source": [
    "df10 = pd.read_excel(\"../week5/연도별출생인구.xlsx\")\n",
    "print(df10.query(\"연도>=2010\"))"
   ]
  },
  {
   "cell_type": "code",
   "execution_count": 27,
   "metadata": {},
   "outputs": [
    {
     "name": "stdout",
     "output_type": "stream",
     "text": [
      "      연도    출생아수  천명당출생률\n",
      "59  2010  470171     9.4\n",
      "60  2011  471265     9.4\n",
      "61  2012  484550     9.6\n",
      "62  2013  436455     8.6\n",
      "63  2014  435435     8.6\n",
      "   index    연도    출생아수  천명당출생률\n",
      "0     59  2010  470171     9.4\n",
      "1     60  2011  471265     9.4\n",
      "2     61  2012  484550     9.6\n",
      "3     62  2013  436455     8.6\n",
      "4     63  2014  435435     8.6\n",
      "     연도    출생아수  천명당출생률\n",
      "0  2010  470171     9.4\n",
      "1  2011  471265     9.4\n",
      "2  2012  484550     9.6\n",
      "3  2013  436455     8.6\n",
      "4  2014  435435     8.6\n"
     ]
    }
   ],
   "source": [
    "df11 = df10.query(\"연도>=2010\")\n",
    "dropF = df11.reset_index(drop=False)\n",
    "dropT = df11.reset_index(drop=True)\n",
    "print(df11.head())\n",
    "print(dropF.head())\n",
    "print(dropT.head())"
   ]
  },
  {
   "cell_type": "code",
   "execution_count": null,
   "metadata": {},
   "outputs": [],
   "source": []
  }
 ],
 "metadata": {
  "kernelspec": {
   "display_name": "aidata",
   "language": "python",
   "name": "aidata"
  },
  "language_info": {
   "codemirror_mode": {
    "name": "ipython",
    "version": 3
   },
   "file_extension": ".py",
   "mimetype": "text/x-python",
   "name": "python",
   "nbconvert_exporter": "python",
   "pygments_lexer": "ipython3",
   "version": "3.12.4"
  }
 },
 "nbformat": 4,
 "nbformat_minor": 2
}
