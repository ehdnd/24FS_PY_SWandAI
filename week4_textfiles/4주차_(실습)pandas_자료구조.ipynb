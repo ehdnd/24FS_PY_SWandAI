{
  "nbformat": 4,
  "nbformat_minor": 0,
  "metadata": {
    "colab": {
      "provenance": [],
      "toc_visible": true
    },
    "kernelspec": {
      "name": "python3",
      "display_name": "Python 3"
    },
    "language_info": {
      "name": "python"
    }
  },
  "cells": [
    {
      "cell_type": "markdown",
      "source": [
        "###다음 데이터를 활용하여 pandas의 Series와  DataFrame을 사용하여 정형 데이터를 생성하세요.\n",
        "*   데이터: 2022년 7월 기준으로 서울시 공공자전거 대여소별 이용정보중 일부분"
      ],
      "metadata": {
        "id": "ZHEN92j1C5st"
      }
    },
    {
      "cell_type": "code",
      "source": [
        "자치구 = ['강남구','강동구','강북구','강서구']\n",
        "대여소명 = ['2301. 현대고등학교 건너편','1002. 해공공원(천호동)','1512. 강북중학교 앞','1106. 신방화사거리']\n",
        "대여건수 = [2170, 3085, 2468, 4883]\n",
        "반납건수 = [2183, 3111, 2489, 5307]\n",
        "\n",
        "열정보 = ['자치구','대여소명','대여건수','반납건수']\n",
        "이용정보 = [['강남구','2301. 현대고등학교 건너편',2170, 2183],\n",
        "            ['강동구','1002. 해공공원(천호동)', 3085, 3111],\n",
        "            ['강북구','1512. 강북중학교 앞', 2468, 2489 ],\n",
        "            ['강서구','1106. 신방화사거리', 4883 , 5307 ]\n",
        "           ]"
      ],
      "metadata": {
        "id": "7sSStTRuCUGa"
      },
      "execution_count": null,
      "outputs": []
    },
    {
      "cell_type": "markdown",
      "source": [
        "###1.데이터 관리를 위한 라이브러리 선언"
      ],
      "metadata": {
        "id": "KDjFvl5WDbYx"
      }
    },
    {
      "cell_type": "code",
      "execution_count": null,
      "metadata": {
        "id": "IEnHevgm_d8C"
      },
      "outputs": [],
      "source": [
        "#import pandas as pd\n",
        "\n",
        "import"
      ]
    },
    {
      "cell_type": "markdown",
      "source": [
        "##2.Series 생성하기"
      ],
      "metadata": {
        "id": "BoD0RV2DDpCC"
      }
    },
    {
      "cell_type": "markdown",
      "source": [
        "###1)index 자동 부여"
      ],
      "metadata": {
        "id": "FeN7qx2VE7ZH"
      }
    },
    {
      "cell_type": "code",
      "source": [
        "#대여건수를 데이터를 Series 로 생성하기\n",
        "\n",
        "#변수명 = pd.Series([데이터들])\n",
        "#데이터 참조는 리스트 참조 방식 사용 : ex)a[1]\n",
        "\n",
        "data =\n",
        "\n",
        "print(data)     #모든 데이터를 출력\n",
        "print()  #data[0]번째 데이터 출력\n",
        "print()  #data[3]번째 데이터 출력"
      ],
      "metadata": {
        "id": "CNlPlLhODzZi"
      },
      "execution_count": null,
      "outputs": []
    },
    {
      "cell_type": "code",
      "source": [
        "#반납건수를 데이터를 Series 로 생성하기\n",
        "\n",
        "#변수명 = pd.Series(리스트변수명)\n",
        "\n",
        "data =\n",
        "\n",
        "print(data)     #모든 데이터를 출력\n",
        "print()  #data[1]번째 데이터 출력\n",
        "print(])  #data[2]번째 데이터 출력"
      ],
      "metadata": {
        "id": "uIxi5StQCKVT"
      },
      "execution_count": null,
      "outputs": []
    },
    {
      "cell_type": "markdown",
      "source": [
        "###2)index 직접 부여"
      ],
      "metadata": {
        "id": "9shwZaKAE_X7"
      }
    },
    {
      "cell_type": "code",
      "source": [
        "#대여건수를 데이터를 Series 로 생성하기\n",
        "#각 index의 이름은 '강남구','강동구','강북구','강서구'로 지정\n",
        "\n",
        "#변수명 = pd.Series([데이터], index=[index이름])\n",
        "#index이름은 데이터 갯수만큼 생성\n",
        "\n",
        "data =\n",
        "print(data)\n",
        "print(data[0])  #data[0]번째 데이터 출력\n",
        "print(data[3])  #data[3]번째 데이터 출력\n",
        "print()  #data['강남구']번째 데이터 출력\n",
        "print()  #data['강서구']번째 데이터 출력"
      ],
      "metadata": {
        "id": "fYn8UTyHDlP_"
      },
      "execution_count": null,
      "outputs": []
    },
    {
      "cell_type": "code",
      "source": [
        "#반납건수를 데이터를 Series 로 생성하기\n",
        "#각 index의 이름은 '강남구','강동구','강북구','강서구'로 지정\n",
        "\n",
        "#변수명 = pd.Series(리스트변수명, index=리스트변수명)\n",
        "#index이름은 데이터 개수만큼 생성\n",
        "\n",
        "data =\n",
        "print(data)\n",
        "print(data[0])  #data[0]번째 데이터 출력\n",
        "print(data[3])  #data[3]번째 데이터 출력\n",
        "print(data['강남구'])  #data['강남구']번째 데이터 출력\n",
        "print(data['강서구'])  #data['강서구']번째 데이터 출력"
      ],
      "metadata": {
        "id": "aku0siGUCRBZ"
      },
      "execution_count": null,
      "outputs": []
    },
    {
      "cell_type": "markdown",
      "source": [
        "##3.DataFrame 생성하기"
      ],
      "metadata": {
        "id": "23TNJMv2Duxj"
      }
    },
    {
      "cell_type": "markdown",
      "source": [
        "###1)Dictionary 를 활용한 DataFrame 생성"
      ],
      "metadata": {
        "id": "SY1iIzbGGXOn"
      }
    },
    {
      "cell_type": "code",
      "source": [
        "#자치구, 대여소명, 대여건수, 반납건수를 활용하여 DataFrame 생성하기\n",
        "#pd.DataFrame({'key1':value1, 'key2':value2, …})\n",
        "#key : 열이름(변수명)\n",
        "#value : 열이름에 해당하는 데이터들(리스트)\n",
        "\n",
        "data =\n",
        "data"
      ],
      "metadata": {
        "id": "lWfOCJDLGXzW"
      },
      "execution_count": null,
      "outputs": []
    },
    {
      "cell_type": "markdown",
      "source": [
        "###2)2차원 리스트와 columns 속성을 활용한 DataFrame 생성"
      ],
      "metadata": {
        "id": "Rm58tXCbGlZx"
      }
    },
    {
      "cell_type": "code",
      "source": [
        "#이용정보와 열정보를 활용하여 DataFrame 생성하기\n",
        "\n",
        "#pd.DataFrame([데이터들], columns=['열이름들'])\n",
        "#데이터들 : 각 열의 데이터들(리스트)\n",
        "#열이름들 : 각 열의 변수명\n",
        "\n",
        "data =\n",
        "\n",
        "\n",
        "\n",
        "\n",
        "data"
      ],
      "metadata": {
        "id": "cK1BsE3MGuKw"
      },
      "execution_count": null,
      "outputs": []
    },
    {
      "cell_type": "code",
      "source": [
        "#리스트 변수명 활용\n",
        "\n",
        "data =\n",
        "\n",
        "data"
      ],
      "metadata": {
        "id": "IAei04hqJhtN"
      },
      "execution_count": null,
      "outputs": []
    }
  ]
}